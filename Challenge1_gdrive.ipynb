{
  "cells": [
    {
      "cell_type": "markdown",
      "metadata": {
        "id": "view-in-github",
        "colab_type": "text"
      },
      "source": [
        "<a href=\"https://colab.research.google.com/github/MaximeGloesener/HandsOnAI-Challenge1/blob/master/Challenge1_gdrive.ipynb\" target=\"_parent\"><img src=\"https://colab.research.google.com/assets/colab-badge.svg\" alt=\"Open In Colab\"/></a>"
      ]
    },
    {
      "cell_type": "markdown",
      "metadata": {
        "id": "iK6fZUXolwPs"
      },
      "source": [
        "# **1. Hardware Informations (GPU)**"
      ]
    },
    {
      "cell_type": "code",
      "execution_count": 43,
      "metadata": {
        "colab": {
          "base_uri": "https://localhost:8080/"
        },
        "id": "_UEjh8Rulquq",
        "outputId": "1ef0b410-19d0-4f99-c5c4-2ba72844f6df"
      },
      "outputs": [
        {
          "output_type": "stream",
          "name": "stdout",
          "text": [
            "Wed Nov 23 19:51:36 2022       \n",
            "+-----------------------------------------------------------------------------+\n",
            "| NVIDIA-SMI 460.32.03    Driver Version: 460.32.03    CUDA Version: 11.2     |\n",
            "|-------------------------------+----------------------+----------------------+\n",
            "| GPU  Name        Persistence-M| Bus-Id        Disp.A | Volatile Uncorr. ECC |\n",
            "| Fan  Temp  Perf  Pwr:Usage/Cap|         Memory-Usage | GPU-Util  Compute M. |\n",
            "|                               |                      |               MIG M. |\n",
            "|===============================+======================+======================|\n",
            "|   0  Tesla T4            Off  | 00000000:00:04.0 Off |                    0 |\n",
            "| N/A   62C    P0    28W /  70W |  14632MiB / 15109MiB |      0%      Default |\n",
            "|                               |                      |                  N/A |\n",
            "+-------------------------------+----------------------+----------------------+\n",
            "                                                                               \n",
            "+-----------------------------------------------------------------------------+\n",
            "| Processes:                                                                  |\n",
            "|  GPU   GI   CI        PID   Type   Process name                  GPU Memory |\n",
            "|        ID   ID                                                   Usage      |\n",
            "|=============================================================================|\n",
            "+-----------------------------------------------------------------------------+\n"
          ]
        }
      ],
      "source": [
        "!/opt/bin/nvidia-smi\n",
        "!rm -rf sample_data"
      ]
    },
    {
      "cell_type": "markdown",
      "metadata": {
        "id": "QrtS3fRhb5x6"
      },
      "source": [
        "# **2. Importation des librairies**"
      ]
    },
    {
      "cell_type": "code",
      "execution_count": 44,
      "metadata": {
        "colab": {
          "base_uri": "https://localhost:8080/"
        },
        "id": "MS3XuLGyb5x_",
        "outputId": "5062a725-c82b-4315-8d23-dfafb2105a92"
      },
      "outputs": [
        {
          "output_type": "stream",
          "name": "stdout",
          "text": [
            "Tensorflow version: 2.9.2\n",
            "Keras version: 2.9.0\n"
          ]
        }
      ],
      "source": [
        "from IPython.display import Image, HTML, display\n",
        "from matplotlib import pyplot as plt\n",
        "import numpy as np \n",
        "import os\n",
        "import cv2\n",
        "import csv\n",
        "import tensorflow as tf\n",
        "from tensorflow import keras\n",
        "from keras.preprocessing import image\n",
        "from keras.models import Model, load_model\n",
        "from keras import backend as K\n",
        "from keras.applications.vgg16 import VGG16, preprocess_input #224*224\n",
        "from keras.applications.xception import Xception, preprocess_input, decode_predictions #299*299\n",
        "from keras.applications.mobilenet import MobileNet, preprocess_input, decode_predictions #224*224\n",
        "from keras.preprocessing.image import ImageDataGenerator\n",
        "from keras.losses import categorical_crossentropy\n",
        "from keras.layers import Dense, GlobalAveragePooling2D, Activation, Flatten, Dropout\n",
        "from keras.callbacks import ModelCheckpoint, EarlyStopping\n",
        "import math\n",
        "import argparse\n",
        "import matplotlib\n",
        "import imghdr\n",
        "import pickle as pkl\n",
        "import datetime\n",
        "from cycler import cycler\n",
        "from PIL import Image, ImageEnhance\n",
        "from google.colab import files\n",
        "from tqdm import tqdm\n",
        "print(\"Tensorflow version: \"+tf.__version__)\n",
        "print(\"Keras version: \" + tf.keras.__version__)"
      ]
    },
    {
      "cell_type": "markdown",
      "metadata": {
        "id": "f6HqNeyYKraU"
      },
      "source": [
        "#**3. Connexion à Google Colab pour acceder aux bases de données**"
      ]
    },
    {
      "cell_type": "code",
      "execution_count": 45,
      "metadata": {
        "colab": {
          "base_uri": "https://localhost:8080/"
        },
        "id": "HXAc626acFRF",
        "outputId": "17754dfe-589a-49cf-bdce-0165e5e34682"
      },
      "outputs": [
        {
          "output_type": "stream",
          "name": "stdout",
          "text": [
            "Drive already mounted at /content/gdrive; to attempt to forcibly remount, call drive.mount(\"/content/gdrive\", force_remount=True).\n"
          ]
        }
      ],
      "source": [
        "from google.colab import drive\n",
        "drive.mount('/content/gdrive')"
      ]
    },
    {
      "cell_type": "markdown",
      "metadata": {
        "id": "P_-BpaZnLDmn"
      },
      "source": [
        "#**4. Création des labels dans le fichier \"classes.txt\"**"
      ]
    },
    {
      "cell_type": "code",
      "execution_count": 46,
      "metadata": {
        "id": "70eR5xy2nNZP"
      },
      "outputs": [],
      "source": [
        "!printf '%s\\n' 'fire' 'no_fire' 'start_fire'> classes.txt"
      ]
    },
    {
      "cell_type": "markdown",
      "metadata": {
        "id": "YyXXoZphLN1-"
      },
      "source": [
        "#**5. Paramètres pour l'entrainement**"
      ]
    },
    {
      "cell_type": "code",
      "execution_count": 47,
      "metadata": {
        "id": "3cIzhz5iNn7F"
      },
      "outputs": [],
      "source": [
        "# Fix random seed \n",
        "tf.keras.utils.set_random_seed(42)"
      ]
    },
    {
      "cell_type": "code",
      "execution_count": 48,
      "metadata": {
        "id": "HwKf5hQLnUPi"
      },
      "outputs": [],
      "source": [
        "nb_classes = 3\n",
        "nbr_batch_size=64 #@param [1,2,4,8,16,32,64,128] {type:\"raw\"}\n",
        "dataset_path = \"gdrive/MyDrive/Challenge1\"\n",
        "input_dim=224 #@param [224,299] {type:\"raw\"}  \n",
        "dataset_name='db1' #@param [\"db1\",\"db2\"]\n",
        "dataset_path = os.path.join(dataset_path,dataset_name)\n",
        "classes_path = \"classes.txt\"\n",
        "csv_path = 'result.csv'\n",
        "epochs = 20 #@ param {type:\"slider\", min:5, max:100, step:5}\n",
        "\n",
        "result_path='results/'\n",
        "log_path='logs'\n",
        "\n",
        "classifier = \"Xception\" #@param [\"ResNet50\",\"VGG19\",\"Xception\",\"MobileNet\",\"DenseNet169\"] {type:\"string\"}\n",
        "result_path = 'results/'+classifier\n",
        "log={\n",
        "    'epochs':epochs,\n",
        "    'batch_size':nbr_batch_size,\n",
        "    'val_loss':-1,\n",
        "    'val_acc':-1,\n",
        "}"
      ]
    },
    {
      "cell_type": "code",
      "execution_count": 49,
      "metadata": {
        "id": "94acb9Z0lc3i",
        "colab": {
          "base_uri": "https://localhost:8080/"
        },
        "outputId": "3960f21f-e971-4431-e3d2-d98f75b06f53"
      },
      "outputs": [
        {
          "output_type": "stream",
          "name": "stdout",
          "text": [
            "gdrive/MyDrive/Challenge1/db1\n"
          ]
        }
      ],
      "source": [
        "print(dataset_path)"
      ]
    },
    {
      "cell_type": "markdown",
      "metadata": {
        "id": "7SBzh646b5yz"
      },
      "source": [
        "# **6. Nombre de classes**"
      ]
    },
    {
      "cell_type": "code",
      "execution_count": 50,
      "metadata": {
        "id": "NZ55HVhkb5y3"
      },
      "outputs": [],
      "source": [
        "# Get the class names\n",
        "with open(classes_path, 'r') as f:\n",
        "    classes = f.readlines()\n",
        "    classes = list(map(lambda x: x.strip(), classes))\n",
        "num_classes = len(classes)"
      ]
    },
    {
      "cell_type": "code",
      "execution_count": 51,
      "metadata": {
        "id": "1SqSdQUDkL-F",
        "colab": {
          "base_uri": "https://localhost:8080/"
        },
        "outputId": "200d1c39-5cd3-4cdb-988c-32abd60142b1"
      },
      "outputs": [
        {
          "output_type": "stream",
          "name": "stdout",
          "text": [
            "3\n"
          ]
        }
      ],
      "source": [
        "print(num_classes)"
      ]
    },
    {
      "cell_type": "markdown",
      "metadata": {
        "id": "NTyWV0pQb5zD"
      },
      "source": [
        "# **8. Sélection et configuration du training dataset**"
      ]
    },
    {
      "cell_type": "code",
      "execution_count": 52,
      "metadata": {
        "id": "UoWLjGra8Ls9",
        "colab": {
          "base_uri": "https://localhost:8080/"
        },
        "outputId": "1fac56b5-146d-4a3e-9f29-e2898ae81dc4"
      },
      "outputs": [
        {
          "output_type": "stream",
          "name": "stdout",
          "text": [
            "Found 3085 files belonging to 3 classes.\n",
            "Using 2468 files for training.\n"
          ]
        }
      ],
      "source": [
        "train_ds = tf.keras.preprocessing.image_dataset_from_directory(\n",
        "\tdataset_path,                     \t# Path of the dataset\n",
        "\tvalidation_split=0.2,             \t# Data division : validation (20%), train (80%)\n",
        "\tsubset=\"training\",               \t \t# Selection of training data\n",
        "\tseed=42,                          \t# Initialization of random generator (for permutations)\n",
        "\timage_size=(input_dim,input_dim),   # Input size of images\n",
        "\tbatch_size=nbr_batch_size,        \t# Batch_size\n",
        "  label_mode=\"categorical\"     \t\t\t\t# Conversion to One-Hot format\n",
        ")"
      ]
    },
    {
      "cell_type": "markdown",
      "metadata": {
        "id": "ji2AfPd88PC-"
      },
      "source": [
        "#**9. Sélection et configuration du validation dataset**"
      ]
    },
    {
      "cell_type": "code",
      "execution_count": 53,
      "metadata": {
        "id": "7Oruux4rRyDv",
        "colab": {
          "base_uri": "https://localhost:8080/"
        },
        "outputId": "01e37344-c9c8-423e-e2ad-efc2b6e9cf3b"
      },
      "outputs": [
        {
          "output_type": "stream",
          "name": "stdout",
          "text": [
            "Found 3085 files belonging to 3 classes.\n",
            "Using 617 files for validation.\n"
          ]
        }
      ],
      "source": [
        "val_ds = tf.keras.preprocessing.image_dataset_from_directory(\n",
        "\tdataset_path,                     \t# Path of the dataset\n",
        "\tvalidation_split=0.2,             \t# Data division : validation (20%), train (80%)\n",
        "\tsubset=\"validation\",                # Selection of validation data\n",
        "\tseed=42,                          \t# Initialization of random generator (for permutations)\n",
        "\timage_size=(input_dim,input_dim),   # Input size of images\n",
        "\tbatch_size=nbr_batch_size,        \t# Batch_size\n",
        "  label_mode=\"categorical\"     \t\t\t\t# Conversion to One-Hot format\n",
        ")"
      ]
    },
    {
      "cell_type": "markdown",
      "metadata": {
        "id": "Wi8oBrIJWa5s"
      },
      "source": [
        "# **10. Téléchargement du modèle pré-entraîné**"
      ]
    },
    {
      "cell_type": "code",
      "execution_count": 54,
      "metadata": {
        "id": "_WCBo9Oyb5zc"
      },
      "outputs": [],
      "source": [
        "base_model = Xception(include_top = False, weights ='imagenet',input_shape = (input_dim,input_dim,3))\n",
        "model = base_model.output\n",
        "model = Flatten()(model)\n",
        "model = Dense(128,activation='relu')(model)\n",
        "model = Dropout(0.4)(model)\n",
        "model = Dense(64,activation = 'relu')(model)\n",
        "model = Dropout(0.4)(model)\n",
        "predictions = Dense(num_classes, activation = 'softmax')(model)\n",
        "model = Model(inputs=base_model.inputs, outputs=predictions)"
      ]
    },
    {
      "cell_type": "markdown",
      "metadata": {
        "id": "q6CWnXEPb5zX"
      },
      "source": [
        "# **13. Entraînement du modèle**"
      ]
    },
    {
      "cell_type": "code",
      "execution_count": 55,
      "metadata": {
        "id": "GPGAZ2Vab5zo",
        "colab": {
          "base_uri": "https://localhost:8080/"
        },
        "outputId": "5ddd3a86-7c49-48a0-88c9-e5b099058521"
      },
      "outputs": [
        {
          "output_type": "stream",
          "name": "stdout",
          "text": [
            "Epoch 1/20\n"
          ]
        },
        {
          "output_type": "stream",
          "name": "stderr",
          "text": [
            "/usr/local/lib/python3.7/dist-packages/keras/optimizers/optimizer_v2/adam.py:110: UserWarning: The `lr` argument is deprecated, use `learning_rate` instead.\n",
            "  super(Adam, self).__init__(name, **kwargs)\n"
          ]
        },
        {
          "output_type": "stream",
          "name": "stdout",
          "text": [
            "39/39 [==============================] - 85s 2s/step - loss: 0.6962 - accuracy: 0.7147 - val_loss: 2.0619 - val_accuracy: 0.5689\n",
            "Epoch 2/20\n",
            "39/39 [==============================] - 65s 1s/step - loss: 0.1659 - accuracy: 0.9429 - val_loss: 0.7178 - val_accuracy: 0.8947\n",
            "Epoch 3/20\n",
            "39/39 [==============================] - 64s 1s/step - loss: 0.0763 - accuracy: 0.9777 - val_loss: 0.8246 - val_accuracy: 0.8947\n",
            "Epoch 4/20\n",
            "39/39 [==============================] - 65s 1s/step - loss: 0.0456 - accuracy: 0.9891 - val_loss: 0.7306 - val_accuracy: 0.9335\n",
            "Epoch 5/20\n",
            "39/39 [==============================] - 64s 1s/step - loss: 0.0228 - accuracy: 0.9923 - val_loss: 1.1701 - val_accuracy: 0.9141\n",
            "Epoch 6/20\n",
            "39/39 [==============================] - 65s 1s/step - loss: 0.0185 - accuracy: 0.9951 - val_loss: 0.9742 - val_accuracy: 0.9303\n",
            "Epoch 7/20\n",
            "39/39 [==============================] - 64s 1s/step - loss: 0.0218 - accuracy: 0.9947 - val_loss: 0.7657 - val_accuracy: 0.9481\n",
            "Epoch 8/20\n",
            "39/39 [==============================] - 64s 1s/step - loss: 0.0085 - accuracy: 0.9972 - val_loss: 0.8288 - val_accuracy: 0.9449\n",
            "Epoch 9/20\n",
            "39/39 [==============================] - 65s 1s/step - loss: 0.0106 - accuracy: 0.9976 - val_loss: 0.6017 - val_accuracy: 0.9579\n",
            "Epoch 10/20\n",
            "39/39 [==============================] - 64s 1s/step - loss: 0.0102 - accuracy: 0.9972 - val_loss: 0.6306 - val_accuracy: 0.9562\n",
            "Epoch 11/20\n",
            "39/39 [==============================] - 65s 1s/step - loss: 0.0071 - accuracy: 0.9984 - val_loss: 0.6543 - val_accuracy: 0.9481\n",
            "Epoch 12/20\n",
            "39/39 [==============================] - 64s 1s/step - loss: 0.0165 - accuracy: 0.9959 - val_loss: 0.5860 - val_accuracy: 0.9579\n",
            "Epoch 13/20\n",
            "39/39 [==============================] - 65s 1s/step - loss: 0.0045 - accuracy: 0.9980 - val_loss: 0.5690 - val_accuracy: 0.9595\n",
            "Epoch 14/20\n",
            "39/39 [==============================] - 64s 1s/step - loss: 0.0126 - accuracy: 0.9972 - val_loss: 0.4547 - val_accuracy: 0.9643\n",
            "Epoch 15/20\n",
            "39/39 [==============================] - 65s 1s/step - loss: 0.0030 - accuracy: 0.9996 - val_loss: 0.4850 - val_accuracy: 0.9611\n",
            "Epoch 16/20\n",
            "39/39 [==============================] - 64s 1s/step - loss: 0.0029 - accuracy: 0.9992 - val_loss: 0.5040 - val_accuracy: 0.9611\n",
            "Epoch 17/20\n",
            "39/39 [==============================] - 65s 1s/step - loss: 0.0038 - accuracy: 0.9992 - val_loss: 0.8331 - val_accuracy: 0.9303\n",
            "Epoch 18/20\n",
            "39/39 [==============================] - 64s 1s/step - loss: 0.0159 - accuracy: 0.9959 - val_loss: 0.6608 - val_accuracy: 0.9514\n",
            "Epoch 19/20\n",
            "39/39 [==============================] - 64s 1s/step - loss: 0.0043 - accuracy: 0.9988 - val_loss: 0.4965 - val_accuracy: 0.9611\n",
            "Epoch 20/20\n",
            "39/39 [==============================] - 64s 1s/step - loss: 0.0041 - accuracy: 0.9988 - val_loss: 0.5195 - val_accuracy: 0.9562\n"
          ]
        }
      ],
      "source": [
        "tf.keras.backend.clear_session()\n",
        "# pour permettre le ré-entrainement des couches\n",
        "for layer in model.layers:\n",
        "    layer.trainable = True\n",
        "\n",
        "# recompiler le modèle\n",
        "opt = keras.optimizers.SGD(learning_rate=0.0001,decay=1e-6)\n",
        "opt2 = keras.optimizers.Adam(lr=0.0001)\n",
        "opt3 = keras.optimizers.RMSprop(learning_rate = 0.0001,decay = 1e-6)\n",
        "model.compile(loss='categorical_crossentropy',optimizer=opt3,metrics=['accuracy'])  \n",
        "\n",
        "\n",
        "# Création du dossier pour sauvegrader le model\n",
        "if not os.path.exists(result_path):\n",
        "    os.makedirs(result_path)\n",
        "\n",
        "\n",
        "keras_callback = [EarlyStopping(monitor='val_loss',patience = 10, verbose = 2)]\n",
        "\n",
        "history=model.fit(\n",
        "    train_ds,\n",
        "    steps_per_epoch=math.ceil(len(train_ds)),\n",
        "    epochs=epochs,\n",
        "    validation_data=val_ds,\n",
        "    validation_steps=math.ceil(len(val_ds)),\n",
        "    verbose=1,\n",
        "    callbacks = keras_callback\n",
        ")"
      ]
    },
    {
      "cell_type": "markdown",
      "metadata": {
        "id": "xVOg-VgI9YMB"
      },
      "source": [
        "#**14. Enregistrement du modèle**\n"
      ]
    },
    {
      "cell_type": "code",
      "execution_count": 64,
      "metadata": {
        "id": "BbAlAYpm9fg5"
      },
      "outputs": [],
      "source": [
        "model.save('maxnetv2.h5')"
      ]
    },
    {
      "cell_type": "markdown",
      "metadata": {
        "id": "GN_ljTXlMSIZ"
      },
      "source": [
        "#**15. Visualisation des courbes training/validation**"
      ]
    },
    {
      "cell_type": "code",
      "execution_count": 57,
      "metadata": {
        "id": "QtIwdjee_KLk",
        "outputId": "a9257bfa-76ed-4839-f7d7-2b3174cee9bf",
        "colab": {
          "base_uri": "https://localhost:8080/",
          "height": 295
        }
      },
      "outputs": [
        {
          "output_type": "display_data",
          "data": {
            "text/plain": [
              "<Figure size 432x288 with 1 Axes>"
            ],
            "image/png": "[encoded data removed]"
          },
          "metadata": {
            "needs_background": "light"
          }
        }
      ],
      "source": [
        "import matplotlib.pyplot as plt\n",
        "plt.plot(history.history['accuracy'])\n",
        "plt.plot(history.history['val_accuracy'])\n",
        "plt.title('model accuracy')\n",
        "plt.ylabel('accuracy')\n",
        "plt.xlabel('epoch')\n",
        "plt.legend(['train', 'valid'], loc='upper left')\n",
        "plt.show()"
      ]
    },
    {
      "cell_type": "code",
      "source": [
        "plt.plot(history.history['loss'])\n",
        "plt.plot(history.history['val_loss'])\n",
        "plt.title('model loss')\n",
        "plt.ylabel('loss')\n",
        "plt.xlabel('epoch')\n",
        "plt.legend(['train', 'valid'], loc='upper left')\n",
        "plt.show()"
      ],
      "metadata": {
        "id": "PqpDlc710SsK",
        "outputId": "98ba36ab-87d8-497e-d1f9-a2d81aa8be25",
        "colab": {
          "base_uri": "https://localhost:8080/",
          "height": 295
        }
      },
      "execution_count": 58,
      "outputs": [
        {
          "output_type": "display_data",
          "data": {
            "text/plain": [
              "<Figure size 432x288 with 1 Axes>"
            ],
            "image/png": "[encoded data removed]"
          },
          "metadata": {
            "needs_background": "light"
          }
        }
      ]
    },
    {
      "cell_type": "code",
      "execution_count": 59,
      "metadata": {
        "id": "bvX9QXRCh1GJ",
        "outputId": "e4cc6804-5ab1-45e5-ce23-d8f81b00468b",
        "colab": {
          "base_uri": "https://localhost:8080/"
        }
      },
      "outputs": [
        {
          "output_type": "stream",
          "name": "stdout",
          "text": [
            "Found 210 files belonging to 3 classes.\n",
            "Found 300 files belonging to 3 classes.\n"
          ]
        }
      ],
      "source": [
        "path_test1 = \"/content/gdrive/MyDrive/Challenge1/test_data/test/Test_Dataset\"\n",
        "test_ds1 = tf.keras.preprocessing.image_dataset_from_directory(\n",
        "\tpath_test1,          \t\t\t\t\t\t\t# chemin vers le jeu de données\n",
        "\tseed=42,                    \t\t\t# Initialisation du générateur aléatoire (permutations)\n",
        "\timage_size=(input_dim,input_dim), # Taille des images d'entrée\n",
        "\tbatch_size=nbr_batch_size,      \t# Taille du mini-batch\n",
        "  label_mode='categorical'    \t\t\t# Conversion au format One-Hot\n",
        ")\n",
        "path_test2 = \"/content/gdrive/MyDrive/Challenge1/test_data/Test_Dataset2\"\n",
        "test_ds2 = tf.keras.preprocessing.image_dataset_from_directory(\n",
        "\tpath_test2,          \t\t\t\t\t\t\t# chemin vers le jeu de données\n",
        "\tseed=42,                    \t\t\t# Initialisation du générateur aléatoire (permutations)\n",
        "\timage_size=(input_dim,input_dim), # Taille des images d'entrée\n",
        "\tbatch_size=nbr_batch_size,      \t# Taille du mini-batch\n",
        "  label_mode='categorical'    \t\t\t# Conversion au format One-Hot\n",
        ")"
      ]
    },
    {
      "cell_type": "code",
      "execution_count": 60,
      "metadata": {
        "id": "LxHxT0GFiQK4"
      },
      "outputs": [],
      "source": [
        "def print_score(model, test_data):\n",
        "  score = model.evaluate(test_data,  steps=len(test_data),workers = 1)\n",
        "  print(\"%s: %.2f%%\" % (model.metrics_names[0], score[0]))\n",
        "  print(\"%s: %.2f%%\" % (model.metrics_names[1], score[1]*100))"
      ]
    },
    {
      "cell_type": "code",
      "source": [
        "print_score(model, test_ds1)\n",
        "print_score(model, test_ds2)"
      ],
      "metadata": {
        "id": "XUmBXUcPp7ap",
        "outputId": "bdd98609-7c50-4446-d277-8ec40a53b8fb",
        "colab": {
          "base_uri": "https://localhost:8080/"
        }
      },
      "execution_count": 61,
      "outputs": [
        {
          "output_type": "stream",
          "name": "stdout",
          "text": [
            "4/4 [==============================] - 3s 199ms/step - loss: 0.2387 - accuracy: 0.9524\n",
            "loss: 0.24%\n",
            "accuracy: 95.24%\n",
            "5/5 [==============================] - 5s 594ms/step - loss: 0.2657 - accuracy: 0.9533\n",
            "loss: 0.27%\n",
            "accuracy: 95.33%\n"
          ]
        }
      ]
    },
    {
      "cell_type": "markdown",
      "metadata": {
        "id": "oECfYKSp_MaQ"
      },
      "source": [
        "#**16. Test du modèle avec une image de test**"
      ]
    },
    {
      "cell_type": "code",
      "execution_count": 62,
      "metadata": {
        "id": "hcKZUDoWUq0P"
      },
      "outputs": [],
      "source": [
        "filename = \"https://www.ecologie.gouv.fr/sites/default/files/styles/standard/public/Feux.png\""
      ]
    },
    {
      "cell_type": "code",
      "execution_count": null,
      "metadata": {
        "id": "N_JRsQoh_chG"
      },
      "outputs": [],
      "source": [
        "%matplotlib inline\n",
        "classes = train_ds.class_names\n",
        "image_path =  \"fog.jpg\"\n",
        "img = Image.open(image_path).convert('RGB')\n",
        "x = tf.keras.utils.img_to_array(img,data_format='channels_last')\n",
        "x = tf.keras.preprocessing.image.smart_resize(x, size=(input_dim,input_dim))\n",
        "x = np.expand_dims(x, axis=0)\n",
        "# predict\n",
        "pred = model.predict(x,batch_size=1)[0]\n",
        "\n",
        "for (pos,prob) in enumerate(pred):\n",
        "    class_name = classes[pos]\n",
        "    if (pos == np.argmax(pred)) :\n",
        "        img = cv2.imread(image_path)\n",
        "        img = cv2.cvtColor(img, cv2.COLOR_BGR2RGB)\n",
        "        font = cv2.FONT_HERSHEY_COMPLEX \n",
        "        textsize = cv2.getTextSize(class_name, font, 1, 2)[0]\n",
        "        textX = (img.shape[1] - textsize[0]) / 2\n",
        "        textY = (img.shape[0] + textsize[1]) / 2\n",
        "        cv2.putText(img, class_name, (int(textX)-10, int(textY)), font, 2, (255,0,0), 6, cv2.LINE_AA)\n",
        "        plt.imshow(img)\n",
        "    print(\"Class Name : %s\" % (class_name), \"---\", \"Class Probability: %.2f%%\" % (prob*100))\n",
        "plt.show()"
      ]
    }
  ],
  "metadata": {
    "accelerator": "GPU",
    "colab": {
      "provenance": [],
      "include_colab_link": true
    },
    "gpuClass": "standard",
    "kernelspec": {
      "display_name": "Python 3",
      "language": "python",
      "name": "python3"
    },
    "language_info": {
      "name": "python",
      "version": "3.11.0 (main, Oct 24 2022, 18:26:48) [MSC v.1933 64 bit (AMD64)]"
    },
    "vscode": {
      "interpreter": {
        "hash": "28c92afe8325fc0816b2f334f44f38e4b06e562e4c3a673584693ef65fd7d28f"
      }
    }
  },
  "nbformat": 4,
  "nbformat_minor": 0
}