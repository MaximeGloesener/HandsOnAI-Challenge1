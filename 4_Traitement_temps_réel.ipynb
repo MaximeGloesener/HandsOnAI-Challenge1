{
  "cells": [
    {
      "cell_type": "markdown",
      "metadata": {
        "colab_type": "text",
        "id": "view-in-github"
      },
      "source": [
        "<a href=\"https://colab.research.google.com/github/MaximeGloesener/HandsOnAI-Challenge1/blob/master/4_Traitement_temps_r%C3%A9el.ipynb\" target=\"_parent\"><img src=\"https://colab.research.google.com/assets/colab-badge.svg\" alt=\"Open In Colab\"/></a>"
      ]
    },
    {
      "cell_type": "markdown",
      "metadata": {
        "id": "x-hGVUgx8Ivv"
      },
      "source": [
        "✅ **I**. Récupération d'un modèle entrainé depuis un drive\n",
        "\n",
        "✅ **II**. Récupération des vidéos de test depuis le serveur\n",
        "\n",
        "✅ **III**. Prédictions sur la vidéo\n"
      ]
    },
    {
      "cell_type": "markdown",
      "metadata": {
        "id": "iK6fZUXolwPs"
      },
      "source": [
        "# **1. Hardware Informations (GPU)**"
      ]
    },
    {
      "cell_type": "code",
      "execution_count": 1,
      "metadata": {
        "colab": {
          "base_uri": "https://localhost:8080/"
        },
        "id": "_UEjh8Rulquq",
        "outputId": "60023281-df2f-4896-f3ef-b1975db24014"
      },
      "outputs": [
        {
          "name": "stdout",
          "output_type": "stream",
          "text": [
            "/bin/bash: /opt/bin/nvidia-smi: No such file or directory\n"
          ]
        }
      ],
      "source": [
        "!/opt/bin/nvidia-smi\n",
        "!rm -rf sample_data"
      ]
    },
    {
      "cell_type": "markdown",
      "metadata": {
        "id": "QrtS3fRhb5x6"
      },
      "source": [
        "# **2. Importation des librairies**"
      ]
    },
    {
      "cell_type": "code",
      "execution_count": 9,
      "metadata": {
        "id": "MS3XuLGyb5x_"
      },
      "outputs": [],
      "source": [
        "import cv2\n",
        "from keras.models import load_model\n",
        "import numpy as np\n",
        "import tensorflow as tf"
      ]
    },
    {
      "cell_type": "markdown",
      "metadata": {
        "id": "f6HqNeyYKraU"
      },
      "source": [
        "#**3. Connexion à Google Colab pour accéder au modèle**"
      ]
    },
    {
      "cell_type": "code",
      "execution_count": 3,
      "metadata": {
        "colab": {
          "base_uri": "https://localhost:8080/"
        },
        "id": "HXAc626acFRF",
        "outputId": "d3305824-4526-4f25-b677-0bf39790cde9"
      },
      "outputs": [
        {
          "name": "stdout",
          "output_type": "stream",
          "text": [
            "Mounted at /content/gdrive\n"
          ]
        }
      ],
      "source": [
        "from google.colab import drive\n",
        "drive.mount('/content/gdrive')"
      ]
    },
    {
      "cell_type": "markdown",
      "metadata": {
        "id": "xVOg-VgI9YMB"
      },
      "source": [
        "#**4. Téléchargement du modèle**\n"
      ]
    },
    {
      "cell_type": "code",
      "execution_count": 7,
      "metadata": {
        "id": "BbAlAYpm9fg5"
      },
      "outputs": [],
      "source": [
        "model = load_model('gdrive/MyDrive/Challenge1/test.h5')"
      ]
    },
    {
      "cell_type": "markdown",
      "metadata": {
        "id": "oECfYKSp_MaQ"
      },
      "source": [
        "#**5. Récupération des vidéos depuis le serveur**"
      ]
    },
    {
      "cell_type": "code",
      "execution_count": 6,
      "metadata": {
        "colab": {
          "base_uri": "https://localhost:8080/"
        },
        "id": "F05Om_W9LOm2",
        "outputId": "b2a2442f-b8fa-4283-ec4d-bd43f2cc2280"
      },
      "outputs": [
        {
          "name": "stdout",
          "output_type": "stream",
          "text": [
            "--2022-11-24 23:11:10--  https://cluster.ig.umons.ac.be/HackIA21/databases/fire_detection/TestVideo1.avi\n",
            "Resolving cluster.ig.umons.ac.be (cluster.ig.umons.ac.be)... 193.190.209.220\n",
            "Connecting to cluster.ig.umons.ac.be (cluster.ig.umons.ac.be)|193.190.209.220|:443... connected.\n",
            "HTTP request sent, awaiting response... 200 OK\n",
            "Length: 2305374 (2.2M) [video/x-msvideo]\n",
            "Saving to: ‘TestVideo1.avi’\n",
            "\n",
            "TestVideo1.avi      100%[===================>]   2.20M  3.55MB/s    in 0.6s    \n",
            "\n",
            "2022-11-24 23:11:12 (3.55 MB/s) - ‘TestVideo1.avi’ saved [2305374/2305374]\n",
            "\n"
          ]
        }
      ],
      "source": [
        "!wget https://cluster.ig.umons.ac.be/HackIA21/databases/fire_detection/TestVideo1.avi"
      ]
    },
    {
      "cell_type": "markdown",
      "metadata": {
        "id": "xjNo-hCw8C0h"
      },
      "source": [
        "# **6. Lancement des prédictions sur la vidéo**"
      ]
    },
    {
      "cell_type": "code",
      "execution_count": null,
      "metadata": {
        "colab": {
          "base_uri": "https://localhost:8080/"
        },
        "id": "eAAytqDuKF6f",
        "outputId": "24f83a94-5003-44cb-b34e-e9a86439d704"
      },
      "outputs": [],
      "source": [
        "video_cap = cv2.VideoCapture('TestVideo1.avi')\n",
        "input_dim = 224\n",
        "frame_width = int(video_cap.get(cv2.CAP_PROP_FRAME_WIDTH))\n",
        "frame_height = int(video_cap.get(cv2.CAP_PROP_FRAME_HEIGHT))\n",
        "fps = video_cap.get(cv2.CAP_PROP_FPS)\n",
        "fourcc = cv2.VideoWriter_fourcc(*'DivX')\n",
        "output = cv2.VideoWriter('output.mp4', fourcc, fps, (frame_width, frame_height))\n",
        "classes = [\"fire\",\"no_fire\",\"start_fire\"]\n",
        "\n",
        "while True:\n",
        "        success, frame = video_cap.read()\n",
        "\n",
        "        if success:\n",
        "\n",
        "          img = cv2.resize(frame, (input_dim, input_dim), interpolation = cv2.INTER_AREA)\n",
        "\n",
        "          # Resizing into dimensions you used while training\n",
        "          img = cv2.cvtColor(img, cv2.COLOR_BGR2RGB)\n",
        "          img = tf.keras.preprocessing.image.img_to_array(img)\n",
        "          img = np.expand_dims(img, axis = 0)\n",
        "\n",
        "          pred = model.predict(img, batch_size = 1)[0]\n",
        "\n",
        "          # Annotate the frame\n",
        "          for (pos,prob) in enumerate(pred):\n",
        "              class_name = classes[pos]\n",
        "              if (pos == np.argmax(pred)) :\n",
        "                  font = cv2.FONT_HERSHEY_COMPLEX \n",
        "                  textsize = cv2.getTextSize(class_name, font, 1, 2)[0]\n",
        "                  textX = (img.shape[1] - textsize[0]) / 3\n",
        "                  textY = (img.shape[0] + textsize[1]) / 2\n",
        "                  cv2.putText(frame, class_name, (int(textX)-10, int(textY)), font, 1, (255,255,255), 2, cv2.LINE_AA)\n",
        "                  output.write(frame)\n",
        "\n",
        "\n",
        "        else:\n",
        "          break\n",
        "\n",
        "video_cap.release()\n",
        "output.release()\n",
        "cv2.destroyAllWindows()"
      ]
    }
  ],
  "metadata": {
    "accelerator": "GPU",
    "colab": {
      "include_colab_link": true,
      "provenance": []
    },
    "gpuClass": "standard",
    "kernelspec": {
      "display_name": "Python 3",
      "language": "python",
      "name": "python3"
    },
    "language_info": {
      "name": "python",
      "version": "3.11.0 (main, Oct 24 2022, 18:26:48) [MSC v.1933 64 bit (AMD64)]"
    },
    "vscode": {
      "interpreter": {
        "hash": "28c92afe8325fc0816b2f334f44f38e4b06e562e4c3a673584693ef65fd7d28f"
      }
    }
  },
  "nbformat": 4,
  "nbformat_minor": 0
}
