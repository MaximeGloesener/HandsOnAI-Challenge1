{
  "cells": [
    {
      "cell_type": "markdown",
      "metadata": {
        "colab_type": "text",
        "id": "view-in-github"
      },
      "source": [
        "<a href=\"https://colab.research.google.com/github/MaximeGloesener/HandsOnAI-Challenge1/blob/master/Challenge1_gdrive.ipynb\" target=\"_parent\"><img src=\"https://colab.research.google.com/assets/colab-badge.svg\" alt=\"Open In Colab\"/></a>"
      ]
    },
    {
      "cell_type": "markdown",
      "metadata": {},
      "source": [
        "✅ **I**. Récupération des données depuis le drive\n",
        "\n",
        "✅ **II**. Définition des paramètres pour l'entraînement\n",
        "\n",
        "✅ **III**. Traitement des données téléchargées\n",
        "\n",
        "✅ **IV**. Téléchargement du modèle pré-entraîné\n",
        "\n",
        "✅ **V**. Entrainement du modèle\n",
        "\n",
        "✅ **VI**. Sauvegarde du modèle\n",
        "\n",
        "✅ **VII**. Visualisation des courbes d'entrainement\n",
        "\n",
        "✅ **VIII**. Test du modèle sur les données de test\n"
      ]
    },
    {
      "cell_type": "markdown",
      "metadata": {
        "id": "iK6fZUXolwPs"
      },
      "source": [
        "# **1. Hardware Informations (GPU)**"
      ]
    },
    {
      "cell_type": "code",
      "execution_count": 65,
      "metadata": {
        "colab": {
          "base_uri": "https://localhost:8080/"
        },
        "id": "_UEjh8Rulquq",
        "outputId": "9ff269d5-8aab-4f2e-cf4f-6610b7624bbb"
      },
      "outputs": [
        {
          "name": "stdout",
          "output_type": "stream",
          "text": [
            "Wed Nov 23 20:34:18 2022       \n",
            "+-----------------------------------------------------------------------------+\n",
            "| NVIDIA-SMI 460.32.03    Driver Version: 460.32.03    CUDA Version: 11.2     |\n",
            "|-------------------------------+----------------------+----------------------+\n",
            "| GPU  Name        Persistence-M| Bus-Id        Disp.A | Volatile Uncorr. ECC |\n",
            "| Fan  Temp  Perf  Pwr:Usage/Cap|         Memory-Usage | GPU-Util  Compute M. |\n",
            "|                               |                      |               MIG M. |\n",
            "|===============================+======================+======================|\n",
            "|   0  Tesla T4            Off  | 00000000:00:04.0 Off |                    0 |\n",
            "| N/A   60C    P0    28W /  70W |  14632MiB / 15109MiB |      0%      Default |\n",
            "|                               |                      |                  N/A |\n",
            "+-------------------------------+----------------------+----------------------+\n",
            "                                                                               \n",
            "+-----------------------------------------------------------------------------+\n",
            "| Processes:                                                                  |\n",
            "|  GPU   GI   CI        PID   Type   Process name                  GPU Memory |\n",
            "|        ID   ID                                                   Usage      |\n",
            "|=============================================================================|\n",
            "+-----------------------------------------------------------------------------+\n"
          ]
        }
      ],
      "source": [
        "!/opt/bin/nvidia-smi\n",
        "!rm -rf sample_data"
      ]
    },
    {
      "cell_type": "markdown",
      "metadata": {
        "id": "QrtS3fRhb5x6"
      },
      "source": [
        "# **2. Importation des librairies**"
      ]
    },
    {
      "cell_type": "code",
      "execution_count": 66,
      "metadata": {
        "colab": {
          "base_uri": "https://localhost:8080/"
        },
        "id": "MS3XuLGyb5x_",
        "outputId": "5d3ad027-3ca5-48d3-fd73-7708f4c6957f"
      },
      "outputs": [
        {
          "name": "stdout",
          "output_type": "stream",
          "text": [
            "Tensorflow version: 2.9.2\n",
            "Keras version: 2.9.0\n"
          ]
        }
      ],
      "source": [
        "from IPython.display import Image, HTML, display\n",
        "from matplotlib import pyplot as plt\n",
        "import numpy as np \n",
        "import os\n",
        "import cv2\n",
        "import csv\n",
        "import tensorflow as tf\n",
        "from tensorflow import keras\n",
        "from keras.preprocessing import image\n",
        "from keras.models import Model, load_model\n",
        "from keras import backend as K\n",
        "from keras.applications.vgg16 import VGG16, preprocess_input #224*224\n",
        "from keras.applications.xception import Xception, preprocess_input, decode_predictions #299*299\n",
        "from keras.applications.mobilenet import MobileNet, preprocess_input, decode_predictions #224*224\n",
        "from keras.preprocessing.image import ImageDataGenerator\n",
        "from keras.losses import categorical_crossentropy\n",
        "from keras.layers import Dense, GlobalAveragePooling2D, Activation, Flatten, Dropout\n",
        "from keras.callbacks import ModelCheckpoint, EarlyStopping\n",
        "import math\n",
        "import argparse\n",
        "import matplotlib\n",
        "import imghdr\n",
        "import pickle as pkl\n",
        "import datetime\n",
        "from cycler import cycler\n",
        "from PIL import Image, ImageEnhance\n",
        "from google.colab import files\n",
        "from tqdm import tqdm\n",
        "print(\"Tensorflow version: \"+tf.__version__)\n",
        "print(\"Keras version: \" + tf.keras.__version__)"
      ]
    },
    {
      "cell_type": "markdown",
      "metadata": {
        "id": "f6HqNeyYKraU"
      },
      "source": [
        "# **3. Connexion à Google Drive pour accéder aux bases de données**"
      ]
    },
    {
      "cell_type": "code",
      "execution_count": 67,
      "metadata": {
        "colab": {
          "base_uri": "https://localhost:8080/"
        },
        "id": "HXAc626acFRF",
        "outputId": "02cebf7b-42d1-4ee2-cae8-b5c6a838fc74"
      },
      "outputs": [
        {
          "name": "stdout",
          "output_type": "stream",
          "text": [
            "Drive already mounted at /content/gdrive; to attempt to forcibly remount, call drive.mount(\"/content/gdrive\", force_remount=True).\n"
          ]
        }
      ],
      "source": [
        "from google.colab import drive\n",
        "drive.mount('/content/gdrive')"
      ]
    },
    {
      "cell_type": "markdown",
      "metadata": {
        "id": "P_-BpaZnLDmn"
      },
      "source": [
        "# **4. Création des labels dans le fichier \"classes.txt\"**"
      ]
    },
    {
      "cell_type": "code",
      "execution_count": 68,
      "metadata": {
        "id": "70eR5xy2nNZP"
      },
      "outputs": [],
      "source": [
        "!printf '%s\\n' 'fire' 'no_fire' 'start_fire'> classes.txt"
      ]
    },
    {
      "cell_type": "markdown",
      "metadata": {
        "id": "YyXXoZphLN1-"
      },
      "source": [
        "# **5. Paramètres pour l'entrainement**"
      ]
    },
    {
      "cell_type": "code",
      "execution_count": 69,
      "metadata": {
        "id": "3cIzhz5iNn7F"
      },
      "outputs": [],
      "source": [
        "# Fix random seed \n",
        "tf.keras.utils.set_random_seed(42)"
      ]
    },
    {
      "cell_type": "code",
      "execution_count": 70,
      "metadata": {
        "id": "HwKf5hQLnUPi"
      },
      "outputs": [],
      "source": [
        "nb_classes = 3\n",
        "nbr_batch_size=32 #@param [1,2,4,8,16,32,64,128] {type:\"raw\"}\n",
        "dataset_path = \"gdrive/MyDrive/Challenge1\"\n",
        "input_dim=224 #@param [224,299] {type:\"raw\"}  \n",
        "dataset_name='db1' #@param [\"db1\",\"db2\"]\n",
        "dataset_path = os.path.join(dataset_path,dataset_name)\n",
        "classes_path = \"classes.txt\"\n",
        "csv_path = 'result.csv'\n",
        "epochs = 20 #@ param {type:\"slider\", min:5, max:100, step:5}\n",
        "\n",
        "result_path='results/'\n",
        "log_path='logs'\n",
        "\n",
        "classifier = \"Xception\" #@param [\"ResNet50\",\"VGG19\",\"Xception\",\"MobileNet\",\"DenseNet169\"] {type:\"string\"}\n",
        "result_path = 'results/'+classifier\n",
        "log={\n",
        "    'epochs':epochs,\n",
        "    'batch_size':nbr_batch_size,\n",
        "    'val_loss':-1,\n",
        "    'val_acc':-1,\n",
        "}"
      ]
    },
    {
      "cell_type": "code",
      "execution_count": 71,
      "metadata": {
        "colab": {
          "base_uri": "https://localhost:8080/"
        },
        "id": "94acb9Z0lc3i",
        "outputId": "e2b3d57b-d8d1-4e71-f64c-d576ff53a3d9"
      },
      "outputs": [
        {
          "name": "stdout",
          "output_type": "stream",
          "text": [
            "gdrive/MyDrive/Challenge1/db1\n"
          ]
        }
      ],
      "source": [
        "print(dataset_path)"
      ]
    },
    {
      "cell_type": "markdown",
      "metadata": {
        "id": "7SBzh646b5yz"
      },
      "source": [
        "# **6. Nombre de classes**"
      ]
    },
    {
      "cell_type": "code",
      "execution_count": 72,
      "metadata": {
        "id": "NZ55HVhkb5y3"
      },
      "outputs": [],
      "source": [
        "# Get the class names\n",
        "with open(classes_path, 'r') as f:\n",
        "    classes = f.readlines()\n",
        "    classes = list(map(lambda x: x.strip(), classes))\n",
        "num_classes = len(classes)"
      ]
    },
    {
      "cell_type": "code",
      "execution_count": 73,
      "metadata": {
        "colab": {
          "base_uri": "https://localhost:8080/"
        },
        "id": "1SqSdQUDkL-F",
        "outputId": "69d800f9-dcaa-436f-cc65-73ca5e148136"
      },
      "outputs": [
        {
          "name": "stdout",
          "output_type": "stream",
          "text": [
            "3\n"
          ]
        }
      ],
      "source": [
        "print(num_classes)"
      ]
    },
    {
      "cell_type": "markdown",
      "metadata": {
        "id": "NTyWV0pQb5zD"
      },
      "source": [
        "# **7. Sélection et configuration du training dataset**"
      ]
    },
    {
      "cell_type": "code",
      "execution_count": 74,
      "metadata": {
        "colab": {
          "base_uri": "https://localhost:8080/"
        },
        "id": "UoWLjGra8Ls9",
        "outputId": "1a59f122-f1f4-4a05-8a5e-56168b7b2955"
      },
      "outputs": [
        {
          "name": "stdout",
          "output_type": "stream",
          "text": [
            "Found 3085 files belonging to 3 classes.\n",
            "Using 2468 files for training.\n"
          ]
        }
      ],
      "source": [
        "train_ds = tf.keras.preprocessing.image_dataset_from_directory(\n",
        "\tdataset_path,                     \t# Path of the dataset\n",
        "\tvalidation_split=0.2,             \t# Data division : validation (20%), train (80%)\n",
        "\tsubset=\"training\",               \t \t# Selection of training data\n",
        "\tseed=42,                          \t# Initialization of random generator (for permutations)\n",
        "\timage_size=(input_dim,input_dim),   # Input size of images\n",
        "\tbatch_size=nbr_batch_size,        \t# Batch_size\n",
        "  label_mode=\"categorical\"     \t\t\t\t# Conversion to One-Hot format\n",
        ")"
      ]
    },
    {
      "cell_type": "markdown",
      "metadata": {
        "id": "ji2AfPd88PC-"
      },
      "source": [
        "# **8. Sélection et configuration du validation dataset**"
      ]
    },
    {
      "cell_type": "code",
      "execution_count": 75,
      "metadata": {
        "colab": {
          "base_uri": "https://localhost:8080/"
        },
        "id": "7Oruux4rRyDv",
        "outputId": "e6c7fd60-bd2e-448e-d3e2-7fda01ed7b1f"
      },
      "outputs": [
        {
          "name": "stdout",
          "output_type": "stream",
          "text": [
            "Found 3085 files belonging to 3 classes.\n",
            "Using 617 files for validation.\n"
          ]
        }
      ],
      "source": [
        "val_ds = tf.keras.preprocessing.image_dataset_from_directory(\n",
        "\tdataset_path,                     \t# Path of the dataset\n",
        "\tvalidation_split=0.2,             \t# Data division : validation (20%), train (80%)\n",
        "\tsubset=\"validation\",                # Selection of validation data\n",
        "\tseed=42,                          \t# Initialization of random generator (for permutations)\n",
        "\timage_size=(input_dim,input_dim),   # Input size of images\n",
        "\tbatch_size=nbr_batch_size,        \t# Batch_size\n",
        "  label_mode=\"categorical\"     \t\t\t\t# Conversion to One-Hot format\n",
        ")"
      ]
    },
    {
      "cell_type": "markdown",
      "metadata": {
        "id": "Wi8oBrIJWa5s"
      },
      "source": [
        "# **9. Téléchargement du modèle pré-entraîné**"
      ]
    },
    {
      "cell_type": "code",
      "execution_count": 76,
      "metadata": {
        "id": "_WCBo9Oyb5zc"
      },
      "outputs": [],
      "source": [
        "base_model = Xception(include_top = False, weights ='imagenet',input_shape = (input_dim,input_dim,3))\n",
        "model = base_model.output\n",
        "model = Flatten()(model)\n",
        "model = Dense(128,activation='relu')(model)\n",
        "model = Dropout(0.8)(model)\n",
        "model = Dense(64,activation = 'relu')(model)\n",
        "model = Dropout(0.6)(model)\n",
        "predictions = Dense(num_classes, activation = 'softmax')(model)\n",
        "model = Model(inputs=base_model.inputs, outputs=predictions)"
      ]
    },
    {
      "cell_type": "markdown",
      "metadata": {
        "id": "q6CWnXEPb5zX"
      },
      "source": [
        "# **10. Entraînement du modèle**"
      ]
    },
    {
      "cell_type": "code",
      "execution_count": 77,
      "metadata": {
        "colab": {
          "base_uri": "https://localhost:8080/"
        },
        "id": "GPGAZ2Vab5zo",
        "outputId": "8d543cc7-5484-42cd-ad2e-19728ea9f48a"
      },
      "outputs": [
        {
          "name": "stdout",
          "output_type": "stream",
          "text": [
            "Epoch 1/20\n",
            "78/78 [==============================] - 68s 710ms/step - loss: 1.0976 - accuracy: 0.4931 - val_loss: 0.5385 - val_accuracy: 0.7731\n",
            "Epoch 2/20\n",
            "78/78 [==============================] - 60s 727ms/step - loss: 0.6181 - accuracy: 0.7443 - val_loss: 0.6085 - val_accuracy: 0.8088\n",
            "Epoch 3/20\n",
            "78/78 [==============================] - 60s 724ms/step - loss: 0.4064 - accuracy: 0.8493 - val_loss: 0.7515 - val_accuracy: 0.8428\n",
            "Epoch 4/20\n",
            "78/78 [==============================] - 59s 715ms/step - loss: 0.3083 - accuracy: 0.8922 - val_loss: 0.4908 - val_accuracy: 0.9190\n",
            "Epoch 5/20\n",
            "78/78 [==============================] - 60s 731ms/step - loss: 0.2449 - accuracy: 0.9060 - val_loss: 0.5291 - val_accuracy: 0.9368\n",
            "Epoch 6/20\n",
            "78/78 [==============================] - 59s 714ms/step - loss: 0.1848 - accuracy: 0.9323 - val_loss: 0.5594 - val_accuracy: 0.9400\n",
            "Epoch 7/20\n",
            "78/78 [==============================] - 59s 716ms/step - loss: 0.1751 - accuracy: 0.9412 - val_loss: 0.2952 - val_accuracy: 0.9627\n",
            "Epoch 8/20\n",
            "78/78 [==============================] - 60s 720ms/step - loss: 0.1777 - accuracy: 0.9412 - val_loss: 0.3914 - val_accuracy: 0.9514\n",
            "Epoch 9/20\n",
            "78/78 [==============================] - 60s 728ms/step - loss: 0.1321 - accuracy: 0.9534 - val_loss: 0.3141 - val_accuracy: 0.9595\n",
            "Epoch 10/20\n",
            "78/78 [==============================] - 59s 717ms/step - loss: 0.1144 - accuracy: 0.9627 - val_loss: 0.3832 - val_accuracy: 0.9708\n",
            "Epoch 11/20\n",
            "78/78 [==============================] - 59s 718ms/step - loss: 0.1098 - accuracy: 0.9587 - val_loss: 0.3833 - val_accuracy: 0.9595\n",
            "Epoch 12/20\n",
            "78/78 [==============================] - 59s 718ms/step - loss: 0.0967 - accuracy: 0.9643 - val_loss: 0.5251 - val_accuracy: 0.9562\n",
            "Epoch 13/20\n",
            "78/78 [==============================] - 60s 732ms/step - loss: 0.0900 - accuracy: 0.9656 - val_loss: 0.3736 - val_accuracy: 0.9676\n",
            "Epoch 14/20\n",
            "78/78 [==============================] - 60s 721ms/step - loss: 0.0913 - accuracy: 0.9684 - val_loss: 0.6068 - val_accuracy: 0.9611\n",
            "Epoch 15/20\n",
            "78/78 [==============================] - 61s 738ms/step - loss: 0.0899 - accuracy: 0.9716 - val_loss: 0.6553 - val_accuracy: 0.9611\n",
            "Epoch 15: early stopping\n"
          ]
        }
      ],
      "source": [
        "tf.keras.backend.clear_session()\n",
        "# pour permettre le ré-entrainement des couches\n",
        "for layer in model.layers:\n",
        "    layer.trainable = True\n",
        "\n",
        "# recompiler le modèle\n",
        "opt = keras.optimizers.SGD(learning_rate=0.0001,decay=1e-6)\n",
        "opt2 = keras.optimizers.Adam(lr=0.0001)\n",
        "opt3 = keras.optimizers.RMSprop(learning_rate = 0.0001,decay = 1e-6)\n",
        "model.compile(loss='categorical_crossentropy',optimizer=opt3,metrics=['accuracy'])  \n",
        "\n",
        "\n",
        "# Création du dossier pour sauvegrader le model\n",
        "if not os.path.exists(result_path):\n",
        "    os.makedirs(result_path)\n",
        "\n",
        "\n",
        "keras_callback = [EarlyStopping(monitor='val_loss',patience = 8, verbose = 2)]\n",
        "\n",
        "history=model.fit(\n",
        "    train_ds,\n",
        "    steps_per_epoch=math.ceil(len(train_ds)),\n",
        "    epochs=epochs,\n",
        "    validation_data=val_ds,\n",
        "    validation_steps=math.ceil(len(val_ds)),\n",
        "    verbose=1,\n",
        "    callbacks = keras_callback\n",
        ")"
      ]
    },
    {
      "cell_type": "markdown",
      "metadata": {
        "id": "xVOg-VgI9YMB"
      },
      "source": [
        "# **11. Enregistrement du modèle**\n"
      ]
    },
    {
      "cell_type": "code",
      "execution_count": 87,
      "metadata": {
        "id": "BbAlAYpm9fg5"
      },
      "outputs": [],
      "source": [
        "model.save('maxnetv4.h5')"
      ]
    },
    {
      "cell_type": "markdown",
      "metadata": {
        "id": "GN_ljTXlMSIZ"
      },
      "source": [
        "# **12. Visualisation des courbes training/validation**"
      ]
    },
    {
      "cell_type": "code",
      "execution_count": 79,
      "metadata": {
        "colab": {
          "base_uri": "https://localhost:8080/",
          "height": 295
        },
        "id": "QtIwdjee_KLk",
        "outputId": "c53dfd66-ed68-4b90-dbe2-f9bd0a5908e0"
      },
      "outputs": [
        {
          "data": {
            "image/png": "[encoded data removed]",
            "text/plain": [
              "<Figure size 432x288 with 1 Axes>"
            ]
          },
          "metadata": {
            "needs_background": "light"
          },
          "output_type": "display_data"
        }
      ],
      "source": [
        "import matplotlib.pyplot as plt\n",
        "plt.plot(history.history['accuracy'])\n",
        "plt.plot(history.history['val_accuracy'])\n",
        "plt.title('model accuracy')\n",
        "plt.ylabel('accuracy')\n",
        "plt.xlabel('epoch')\n",
        "plt.legend(['train', 'valid'], loc='upper left')\n",
        "plt.show()"
      ]
    },
    {
      "cell_type": "code",
      "execution_count": 80,
      "metadata": {
        "colab": {
          "base_uri": "https://localhost:8080/",
          "height": 295
        },
        "id": "PqpDlc710SsK",
        "outputId": "4365cdcb-c46b-4871-8485-ed45f42fc342"
      },
      "outputs": [
        {
          "data": {
            "image/png": "[encoded data removed]",
            "text/plain": [
              "<Figure size 432x288 with 1 Axes>"
            ]
          },
          "metadata": {
            "needs_background": "light"
          },
          "output_type": "display_data"
        }
      ],
      "source": [
        "plt.plot(history.history['loss'])\n",
        "plt.plot(history.history['val_loss'])\n",
        "plt.title('model loss')\n",
        "plt.ylabel('loss')\n",
        "plt.xlabel('epoch')\n",
        "plt.legend(['train', 'valid'], loc='upper left')\n",
        "plt.show()"
      ]
    },
    {
      "cell_type": "markdown",
      "metadata": {},
      "source": [
        "# **13. Test du modèle sur les données de test**"
      ]
    },
    {
      "cell_type": "code",
      "execution_count": 81,
      "metadata": {
        "colab": {
          "base_uri": "https://localhost:8080/"
        },
        "id": "bvX9QXRCh1GJ",
        "outputId": "d6ae23a5-4c28-43fa-a4a1-de0920661ae0"
      },
      "outputs": [
        {
          "name": "stdout",
          "output_type": "stream",
          "text": [
            "Found 210 files belonging to 3 classes.\n",
            "Found 300 files belonging to 3 classes.\n"
          ]
        }
      ],
      "source": [
        "path_test1 = \"/content/gdrive/MyDrive/Challenge1/test_data/test/Test_Dataset\"\n",
        "test_ds1 = tf.keras.preprocessing.image_dataset_from_directory(\n",
        "\tpath_test1,          \t\t\t\t\t\t\t# chemin vers le jeu de données\n",
        "\tseed=42,                    \t\t\t# Initialisation du générateur aléatoire (permutations)\n",
        "\timage_size=(input_dim,input_dim), # Taille des images d'entrée\n",
        "\tbatch_size=nbr_batch_size,      \t# Taille du mini-batch\n",
        "  label_mode='categorical'    \t\t\t# Conversion au format One-Hot\n",
        ")\n",
        "path_test2 = \"/content/gdrive/MyDrive/Challenge1/test_data/Test_Dataset2\"\n",
        "test_ds2 = tf.keras.preprocessing.image_dataset_from_directory(\n",
        "\tpath_test2,          \t\t\t\t\t\t\t# chemin vers le jeu de données\n",
        "\tseed=42,                    \t\t\t# Initialisation du générateur aléatoire (permutations)\n",
        "\timage_size=(input_dim,input_dim), # Taille des images d'entrée\n",
        "\tbatch_size=nbr_batch_size,      \t# Taille du mini-batch\n",
        "  label_mode='categorical'    \t\t\t# Conversion au format One-Hot\n",
        ")"
      ]
    },
    {
      "cell_type": "code",
      "execution_count": 82,
      "metadata": {
        "id": "LxHxT0GFiQK4"
      },
      "outputs": [],
      "source": [
        "def print_score(model, test_data):\n",
        "  score = model.evaluate(test_data,  steps=len(test_data),workers = 1)\n",
        "  print(\"%s: %.2f%%\" % (model.metrics_names[0], score[0]))\n",
        "  print(\"%s: %.2f%%\" % (model.metrics_names[1], score[1]*100))"
      ]
    },
    {
      "cell_type": "code",
      "execution_count": 86,
      "metadata": {
        "colab": {
          "base_uri": "https://localhost:8080/"
        },
        "id": "XUmBXUcPp7ap",
        "outputId": "abebc72c-a2d7-4ecf-ca0f-4730949c8573"
      },
      "outputs": [
        {
          "name": "stdout",
          "output_type": "stream",
          "text": [
            "7/7 [==============================] - 3s 120ms/step - loss: 0.4443 - accuracy: 0.9667\n",
            "loss: 0.44%\n",
            "accuracy: 96.67%\n",
            "10/10 [==============================] - 3s 127ms/step - loss: 0.3858 - accuracy: 0.9667\n",
            "loss: 0.39%\n",
            "accuracy: 96.67%\n"
          ]
        }
      ],
      "source": [
        "print_score(model, test_ds1)\n",
        "print_score(model, test_ds2)"
      ]
    }
  ],
  "metadata": {
    "accelerator": "GPU",
    "colab": {
      "include_colab_link": true,
      "provenance": []
    },
    "gpuClass": "standard",
    "kernelspec": {
      "display_name": "Python 3",
      "language": "python",
      "name": "python3"
    },
    "language_info": {
      "name": "python",
      "version": "3.11.0 (main, Oct 24 2022, 18:26:48) [MSC v.1933 64 bit (AMD64)]"
    },
    "vscode": {
      "interpreter": {
        "hash": "28c92afe8325fc0816b2f334f44f38e4b06e562e4c3a673584693ef65fd7d28f"
      }
    }
  },
  "nbformat": 4,
  "nbformat_minor": 0
}
