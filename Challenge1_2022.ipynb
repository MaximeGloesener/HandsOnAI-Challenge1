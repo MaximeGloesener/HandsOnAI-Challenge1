{
  "cells": [
    {
      "cell_type": "markdown",
      "metadata": {
        "colab_type": "text",
        "id": "view-in-github"
      },
      "source": [
        "<a href=\"https://colab.research.google.com/github/MaximeGloesener/HandsOnAI-Challenge1/blob/master/Challenge1_2022.ipynb\" target=\"_parent\"><img src=\"https://colab.research.google.com/assets/colab-badge.svg\" alt=\"Open In Colab\"/></a>"
      ]
    },
    {
      "cell_type": "markdown",
      "metadata": {
        "id": "iK6fZUXolwPs"
      },
      "source": [
        "# **1. Hardware Informations (GPU)**"
      ]
    },
    {
      "cell_type": "code",
      "execution_count": 1,
      "metadata": {
        "colab": {
          "base_uri": "https://localhost:8080/"
        },
        "id": "_UEjh8Rulquq",
        "outputId": "bc29c8c5-fa75-49c2-d066-116bf8400e26",
        "vscode": {
          "languageId": "python"
        }
      },
      "outputs": [
        {
          "name": "stdout",
          "output_type": "stream",
          "text": [
            "Mon Oct 17 12:17:11 2022       \n",
            "+-----------------------------------------------------------------------------+\n",
            "| NVIDIA-SMI 460.32.03    Driver Version: 460.32.03    CUDA Version: 11.2     |\n",
            "|-------------------------------+----------------------+----------------------+\n",
            "| GPU  Name        Persistence-M| Bus-Id        Disp.A | Volatile Uncorr. ECC |\n",
            "| Fan  Temp  Perf  Pwr:Usage/Cap|         Memory-Usage | GPU-Util  Compute M. |\n",
            "|                               |                      |               MIG M. |\n",
            "|===============================+======================+======================|\n",
            "|   0  Tesla T4            Off  | 00000000:00:04.0 Off |                    0 |\n",
            "| N/A   53C    P8     9W /  70W |      0MiB / 15109MiB |      0%      Default |\n",
            "|                               |                      |                  N/A |\n",
            "+-------------------------------+----------------------+----------------------+\n",
            "                                                                               \n",
            "+-----------------------------------------------------------------------------+\n",
            "| Processes:                                                                  |\n",
            "|  GPU   GI   CI        PID   Type   Process name                  GPU Memory |\n",
            "|        ID   ID                                                   Usage      |\n",
            "|=============================================================================|\n",
            "|  No running processes found                                                 |\n",
            "+-----------------------------------------------------------------------------+\n"
          ]
        }
      ],
      "source": [
        "# Check GPU\n",
        "!/opt/bin/nvidia-smi\n",
        "!rm -rf sample_data"
      ]
    },
    {
      "cell_type": "code",
      "execution_count": 2,
      "metadata": {
        "colab": {
          "base_uri": "https://localhost:8080/"
        },
        "id": "abyWKtOlRbL0",
        "outputId": "05ef829f-3e98-493f-81af-35e0bc51ed22",
        "vscode": {
          "languageId": "python"
        }
      },
      "outputs": [
        {
          "name": "stdout",
          "output_type": "stream",
          "text": [
            "Looking in indexes: https://pypi.org/simple, https://us-python.pkg.dev/colab-wheels/public/simple/\n",
            "Collecting wandb\n",
            "  Downloading wandb-0.13.4-py2.py3-none-any.whl (1.9 MB)\n",
            "\u001b[K     |████████████████████████████████| 1.9 MB 14.5 MB/s \n",
            "\u001b[?25hRequirement already satisfied: psutil>=5.0.0 in /usr/local/lib/python3.7/dist-packages (from wandb) (5.4.8)\n",
            "Requirement already satisfied: six>=1.13.0 in /usr/local/lib/python3.7/dist-packages (from wandb) (1.15.0)\n",
            "Requirement already satisfied: setuptools in /usr/local/lib/python3.7/dist-packages (from wandb) (57.4.0)\n",
            "Collecting docker-pycreds>=0.4.0\n",
            "  Downloading docker_pycreds-0.4.0-py2.py3-none-any.whl (9.0 kB)\n",
            "Collecting sentry-sdk>=1.0.0\n",
            "  Downloading sentry_sdk-1.9.10-py2.py3-none-any.whl (162 kB)\n",
            "\u001b[K     |████████████████████████████████| 162 kB 65.7 MB/s \n",
            "\u001b[?25hRequirement already satisfied: promise<3,>=2.0 in /usr/local/lib/python3.7/dist-packages (from wandb) (2.3)\n",
            "Requirement already satisfied: PyYAML in /usr/local/lib/python3.7/dist-packages (from wandb) (6.0)\n",
            "Collecting pathtools\n",
            "  Downloading pathtools-0.1.2.tar.gz (11 kB)\n",
            "Requirement already satisfied: Click!=8.0.0,>=7.0 in /usr/local/lib/python3.7/dist-packages (from wandb) (7.1.2)\n",
            "Requirement already satisfied: requests<3,>=2.0.0 in /usr/local/lib/python3.7/dist-packages (from wandb) (2.23.0)\n",
            "Collecting setproctitle\n",
            "  Downloading setproctitle-1.3.2-cp37-cp37m-manylinux_2_5_x86_64.manylinux1_x86_64.manylinux_2_17_x86_64.manylinux2014_x86_64.whl (30 kB)\n",
            "Collecting GitPython>=1.0.0\n",
            "  Downloading GitPython-3.1.29-py3-none-any.whl (182 kB)\n",
            "\u001b[K     |████████████████████████████████| 182 kB 63.7 MB/s \n",
            "\u001b[?25hCollecting shortuuid>=0.5.0\n",
            "  Downloading shortuuid-1.0.9-py3-none-any.whl (9.4 kB)\n",
            "Requirement already satisfied: protobuf!=4.0.*,!=4.21.0,<5,>=3.12.0 in /usr/local/lib/python3.7/dist-packages (from wandb) (3.17.3)\n",
            "Collecting gitdb<5,>=4.0.1\n",
            "  Downloading gitdb-4.0.9-py3-none-any.whl (63 kB)\n",
            "\u001b[K     |████████████████████████████████| 63 kB 2.2 MB/s \n",
            "\u001b[?25hRequirement already satisfied: typing-extensions>=3.7.4.3 in /usr/local/lib/python3.7/dist-packages (from GitPython>=1.0.0->wandb) (4.1.1)\n",
            "Collecting smmap<6,>=3.0.1\n",
            "  Downloading smmap-5.0.0-py3-none-any.whl (24 kB)\n",
            "Requirement already satisfied: certifi>=2017.4.17 in /usr/local/lib/python3.7/dist-packages (from requests<3,>=2.0.0->wandb) (2022.9.24)\n",
            "Requirement already satisfied: idna<3,>=2.5 in /usr/local/lib/python3.7/dist-packages (from requests<3,>=2.0.0->wandb) (2.10)\n",
            "Requirement already satisfied: urllib3!=1.25.0,!=1.25.1,<1.26,>=1.21.1 in /usr/local/lib/python3.7/dist-packages (from requests<3,>=2.0.0->wandb) (1.24.3)\n",
            "Requirement already satisfied: chardet<4,>=3.0.2 in /usr/local/lib/python3.7/dist-packages (from requests<3,>=2.0.0->wandb) (3.0.4)\n",
            "Collecting sentry-sdk>=1.0.0\n",
            "  Downloading sentry_sdk-1.9.9-py2.py3-none-any.whl (162 kB)\n",
            "\u001b[K     |████████████████████████████████| 162 kB 68.4 MB/s \n",
            "\u001b[?25h  Downloading sentry_sdk-1.9.8-py2.py3-none-any.whl (158 kB)\n",
            "\u001b[K     |████████████████████████████████| 158 kB 67.9 MB/s \n",
            "\u001b[?25h  Downloading sentry_sdk-1.9.7-py2.py3-none-any.whl (157 kB)\n",
            "\u001b[K     |████████████████████████████████| 157 kB 72.5 MB/s \n",
            "\u001b[?25h  Downloading sentry_sdk-1.9.6-py2.py3-none-any.whl (157 kB)\n",
            "\u001b[K     |████████████████████████████████| 157 kB 66.3 MB/s \n",
            "\u001b[?25h  Downloading sentry_sdk-1.9.5-py2.py3-none-any.whl (157 kB)\n",
            "\u001b[K     |████████████████████████████████| 157 kB 71.0 MB/s \n",
            "\u001b[?25h  Downloading sentry_sdk-1.9.4-py2.py3-none-any.whl (157 kB)\n",
            "\u001b[K     |████████████████████████████████| 157 kB 46.7 MB/s \n",
            "\u001b[?25h  Downloading sentry_sdk-1.9.3-py2.py3-none-any.whl (157 kB)\n",
            "\u001b[K     |████████████████████████████████| 157 kB 53.4 MB/s \n",
            "\u001b[?25h  Downloading sentry_sdk-1.9.2-py2.py3-none-any.whl (157 kB)\n",
            "\u001b[K     |████████████████████████████████| 157 kB 54.9 MB/s \n",
            "\u001b[?25h  Downloading sentry_sdk-1.9.1-py2.py3-none-any.whl (157 kB)\n",
            "\u001b[K     |████████████████████████████████| 157 kB 57.4 MB/s \n",
            "\u001b[?25h  Downloading sentry_sdk-1.9.0-py2.py3-none-any.whl (156 kB)\n",
            "\u001b[K     |████████████████████████████████| 156 kB 52.8 MB/s \n",
            "\u001b[?25hBuilding wheels for collected packages: pathtools\n",
            "  Building wheel for pathtools (setup.py) ... \u001b[?25l\u001b[?25hdone\n",
            "  Created wheel for pathtools: filename=pathtools-0.1.2-py3-none-any.whl size=8806 sha256=6267ad993321d235c6437a633ae95080316763cd5f6e4c2bd1de5ea07c5d7038\n",
            "  Stored in directory: /root/.cache/pip/wheels/3e/31/09/fa59cef12cdcfecc627b3d24273699f390e71828921b2cbba2\n",
            "Successfully built pathtools\n",
            "Installing collected packages: smmap, gitdb, shortuuid, setproctitle, sentry-sdk, pathtools, GitPython, docker-pycreds, wandb\n",
            "Successfully installed GitPython-3.1.29 docker-pycreds-0.4.0 gitdb-4.0.9 pathtools-0.1.2 sentry-sdk-1.9.0 setproctitle-1.3.2 shortuuid-1.0.9 smmap-5.0.0 wandb-0.13.4\n",
            "\u001b[34m\u001b[1mwandb\u001b[0m: Logging into wandb.ai. (Learn how to deploy a W&B server locally: https://wandb.me/wandb-server)\n",
            "\u001b[34m\u001b[1mwandb\u001b[0m: You can find your API key in your browser here: https://wandb.ai/authorize\n",
            "\u001b[34m\u001b[1mwandb\u001b[0m: Paste an API key from your profile and hit enter, or press ctrl+c to quit: \n",
            "\u001b[34m\u001b[1mwandb\u001b[0m: Appending key for api.wandb.ai to your netrc file: /root/.netrc\n"
          ]
        }
      ],
      "source": [
        "# Installing wandb for MLOPS\n",
        "!pip install wandb\n",
        "# Login to W&B\n",
        "!wandb login"
      ]
    },
    {
      "cell_type": "markdown",
      "metadata": {
        "id": "QrtS3fRhb5x6"
      },
      "source": [
        "# **2. Importation of librairies**"
      ]
    },
    {
      "cell_type": "code",
      "execution_count": 3,
      "metadata": {
        "colab": {
          "base_uri": "https://localhost:8080/"
        },
        "id": "MS3XuLGyb5x_",
        "outputId": "12f9f8e4-7a3b-47e1-8320-0a1ef5695bb4",
        "vscode": {
          "languageId": "python"
        }
      },
      "outputs": [
        {
          "name": "stdout",
          "output_type": "stream",
          "text": [
            "Tensorflow version: 2.9.2\n",
            "Keras version: 2.9.0\n"
          ]
        }
      ],
      "source": [
        "# General Dependencies\n",
        "from IPython.display import Image, HTML, display\n",
        "from matplotlib import pyplot as plt\n",
        "import numpy as np \n",
        "import os\n",
        "import cv2\n",
        "import csv\n",
        "import math\n",
        "import argparse\n",
        "import matplotlib\n",
        "import imghdr\n",
        "import pickle as pkl\n",
        "import datetime\n",
        "from cycler import cycler\n",
        "from PIL import Image, ImageEnhance\n",
        "from google.colab import files\n",
        "\n",
        "# For Deep Learning\n",
        "import tensorflow as tf\n",
        "from tensorflow import keras\n",
        "from keras.preprocessing import image\n",
        "from keras.models import Model, load_model\n",
        "from keras import backend as K\n",
        "from keras.applications.vgg16 import VGG16, preprocess_input #224*224\n",
        "from keras.applications.xception import Xception, preprocess_input, decode_predictions #299*299\n",
        "from keras.applications.mobilenet import MobileNet, preprocess_input, decode_predictions #224*224\n",
        "from keras.preprocessing.image import ImageDataGenerator\n",
        "from keras.losses import categorical_crossentropy\n",
        "from keras.layers import Dense, GlobalAveragePooling2D, Activation, Flatten, Dropout\n",
        "from keras.callbacks import ModelCheckpoint, EarlyStopping\n",
        "\n",
        "print(\"Tensorflow version: \"+tf.__version__)\n",
        "print(\"Keras version: \" + tf.keras.__version__)\n",
        "\n",
        "# For MLOps\n",
        "import wandb\n",
        "from wandb.keras import WandbCallback"
      ]
    },
    {
      "cell_type": "markdown",
      "metadata": {
        "id": "f6HqNeyYKraU"
      },
      "source": [
        "#**3. Download of training datasets \"FIRE_DATABASE_X\"**"
      ]
    },
    {
      "cell_type": "code",
      "execution_count": 4,
      "metadata": {
        "id": "1CwAmMbqmGhW",
        "vscode": {
          "languageId": "python"
        }
      },
      "outputs": [],
      "source": [
        "bases_path_after=\"bases\"\n",
        "if os.path.exists(bases_path_after) == False:\n",
        "    os.makedirs(bases_path_after)"
      ]
    },
    {
      "cell_type": "code",
      "execution_count": 5,
      "metadata": {
        "colab": {
          "base_uri": "https://localhost:8080/"
        },
        "id": "9zdwkyRtmnN-",
        "outputId": "446d7f61-d805-405f-f276-92da5ff6dc3a",
        "vscode": {
          "languageId": "python"
        }
      },
      "outputs": [
        {
          "name": "stdout",
          "output_type": "stream",
          "text": [
            "--2022-10-17 12:18:01--  https://cluster.ig.umons.ac.be/HackIA21/databases/FIRE_DATABASE_1.tar\n",
            "Resolving cluster.ig.umons.ac.be (cluster.ig.umons.ac.be)... 193.190.209.220\n",
            "Connecting to cluster.ig.umons.ac.be (cluster.ig.umons.ac.be)|193.190.209.220|:443... connected.\n",
            "HTTP request sent, awaiting response... 200 OK\n",
            "Length: 466772992 (445M) [application/octet-stream]\n",
            "Saving to: ‘FIRE_DATABASE_1.tar’\n",
            "\n",
            "FIRE_DATABASE_1.tar 100%[===================>] 445.15M  77.1MB/s    in 5.8s    \n",
            "\n",
            "2022-10-17 12:18:07 (76.5 MB/s) - ‘FIRE_DATABASE_1.tar’ saved [466772992/466772992]\n",
            "\n"
          ]
        }
      ],
      "source": [
        "if not os.path.exists('bases/FIRE_DATABASE_1'):\n",
        "  !rm -rf FIRE_DATABASE_1.tar\n",
        "  !rm -rf sample_data\n",
        "  !wget https://cluster.ig.umons.ac.be/HackIA21/databases/FIRE_DATABASE_1.tar\n",
        "  !tar xf FIRE_DATABASE_1.tar -C 'bases' --one-top-level\n",
        "  !rm FIRE_DATABASE_1.tar"
      ]
    },
    {
      "cell_type": "code",
      "execution_count": 6,
      "metadata": {
        "colab": {
          "base_uri": "https://localhost:8080/"
        },
        "id": "e4aYRc5rluNF",
        "outputId": "e02ac9f0-897e-4b4e-f0d8-c06458444707",
        "vscode": {
          "languageId": "python"
        }
      },
      "outputs": [
        {
          "name": "stdout",
          "output_type": "stream",
          "text": [
            "--2022-10-17 12:18:09--  https://cluster.ig.umons.ac.be/HackIA21/databases/FIRE_DATABASE_2.tar\n",
            "Resolving cluster.ig.umons.ac.be (cluster.ig.umons.ac.be)... 193.190.209.220\n",
            "Connecting to cluster.ig.umons.ac.be (cluster.ig.umons.ac.be)|193.190.209.220|:443... connected.\n",
            "HTTP request sent, awaiting response... 200 OK\n",
            "Length: 1163223040 (1.1G) [application/octet-stream]\n",
            "Saving to: ‘FIRE_DATABASE_2.tar’\n",
            "\n",
            "FIRE_DATABASE_2.tar 100%[===================>]   1.08G  71.4MB/s    in 18s     \n",
            "\n",
            "2022-10-17 12:18:27 (61.9 MB/s) - ‘FIRE_DATABASE_2.tar’ saved [1163223040/1163223040]\n",
            "\n"
          ]
        }
      ],
      "source": [
        "if not os.path.exists('bases/FIRE_DATABASE_2'):\n",
        "  !rm -rf FIRE_DATABASE_2.tar\n",
        "  !rm -rf sample_data\n",
        "  !wget https://cluster.ig.umons.ac.be/HackIA21/databases/FIRE_DATABASE_2.tar\n",
        "  !tar xf FIRE_DATABASE_2.tar -C 'bases' --one-top-level\n",
        "  !rm FIRE_DATABASE_2.tar"
      ]
    },
    {
      "cell_type": "code",
      "execution_count": 7,
      "metadata": {
        "colab": {
          "base_uri": "https://localhost:8080/"
        },
        "id": "WMfYa9uIluzm",
        "outputId": "d34172f1-43a5-4505-f08c-1e34664aa18f",
        "vscode": {
          "languageId": "python"
        }
      },
      "outputs": [
        {
          "name": "stdout",
          "output_type": "stream",
          "text": [
            "--2022-10-17 12:18:32--  https://cluster.ig.umons.ac.be/HackIA21/databases/FIRE_DATABASE_3.tar\n",
            "Resolving cluster.ig.umons.ac.be (cluster.ig.umons.ac.be)... 193.190.209.220\n",
            "Connecting to cluster.ig.umons.ac.be (cluster.ig.umons.ac.be)|193.190.209.220|:443... connected.\n",
            "HTTP request sent, awaiting response... 200 OK\n",
            "Length: 471111680 (449M) [application/octet-stream]\n",
            "Saving to: ‘FIRE_DATABASE_3.tar’\n",
            "\n",
            "FIRE_DATABASE_3.tar 100%[===================>] 449.29M  76.9MB/s    in 5.9s    \n",
            "\n",
            "2022-10-17 12:18:38 (76.2 MB/s) - ‘FIRE_DATABASE_3.tar’ saved [471111680/471111680]\n",
            "\n"
          ]
        }
      ],
      "source": [
        "  if not os.path.exists('bases/FIRE_DATABASE_3'):\n",
        "    !rm -rf FIRE_DATABASE_3.tar\n",
        "    !rm -rf sample_data\n",
        "    !wget https://cluster.ig.umons.ac.be/HackIA21/databases/FIRE_DATABASE_3.tar\n",
        "    !tar xf FIRE_DATABASE_3.tar -C 'bases' --one-top-level\n",
        "    !rm FIRE_DATABASE_3.tar"
      ]
    },
    {
      "cell_type": "markdown",
      "metadata": {
        "id": "P_-BpaZnLDmn"
      },
      "source": [
        "#**4. Cretate the labels file \"classes.txt\"**"
      ]
    },
    {
      "cell_type": "code",
      "execution_count": 8,
      "metadata": {
        "id": "70eR5xy2nNZP",
        "vscode": {
          "languageId": "python"
        }
      },
      "outputs": [],
      "source": [
        "!printf '%s\\n' 'fire' 'no_fire' 'start_fire'> classes.txt"
      ]
    },
    {
      "cell_type": "markdown",
      "metadata": {
        "id": "YyXXoZphLN1-"
      },
      "source": [
        "#**5. Training parameters and selectioon of Pretrained model**"
      ]
    },
    {
      "cell_type": "code",
      "execution_count": 9,
      "metadata": {
        "id": "HwKf5hQLnUPi",
        "vscode": {
          "languageId": "python"
        }
      },
      "outputs": [],
      "source": [
        "configs = dict(\n",
        "      nb_classes = 3,\n",
        "      batch_size = 8, \n",
        "      input_dim = 224,\n",
        "      epochs = 5,\n",
        "      dataset_name = 'FIRE_DATABASE_1',\n",
        "      classifier = \"Xception\",\n",
        "      pretrain_weights = 'imagenet',\n",
        "      init_learning_rate = 0.001,\n",
        "      lr_decay_rate = 0.1,\n",
        "      optimizer = 'adam',\n",
        "      loss_fn = 'categorical_crossentropy',\n",
        "      metrics = ['acc'],\n",
        "      earlystopping_patience = 5\n",
        "    )\n",
        "seed=42\n",
        "# Fixer le seed pour rendre les tests déterministes\n",
        "tf.keras.utils.set_random_seed(seed)\n",
        "classes_path = \"classes.txt\"\n",
        "csv_path = 'result.csv'\n",
        "dataset_path = \"bases\"\n",
        "result_path = 'results/' + configs['classifier']\n",
        "dataset_path = os.path.join('bases/', configs['dataset_name'])\n",
        "result_path='results/'\n",
        "log_path='logs'\n",
        "result_path = 'results/' + configs['classifier']"
      ]
    },
    {
      "cell_type": "markdown",
      "metadata": {
        "id": "7SBzh646b5yz"
      },
      "source": [
        "# **6. Get the number of classes**"
      ]
    },
    {
      "cell_type": "code",
      "execution_count": 10,
      "metadata": {
        "id": "NZ55HVhkb5y3",
        "vscode": {
          "languageId": "python"
        }
      },
      "outputs": [],
      "source": [
        "# Get the class names\n",
        "with open(classes_path, 'r') as f:\n",
        "    classes = f.readlines()\n",
        "    classes = list(map(lambda x: x.strip(), classes))\n",
        "num_classes = len(classes)"
      ]
    },
    {
      "cell_type": "markdown",
      "metadata": {
        "id": "NTyWV0pQb5zD"
      },
      "source": [
        "# **8. Selection and configuration of the training dataset**"
      ]
    },
    {
      "cell_type": "code",
      "execution_count": 11,
      "metadata": {
        "colab": {
          "base_uri": "https://localhost:8080/"
        },
        "id": "UoWLjGra8Ls9",
        "outputId": "59c22bc0-e679-498d-e106-ebf6a1dfbb73",
        "vscode": {
          "languageId": "python"
        }
      },
      "outputs": [
        {
          "name": "stdout",
          "output_type": "stream",
          "text": [
            "Found 1500 files belonging to 3 classes.\n",
            "Using 1200 files for training.\n"
          ]
        }
      ],
      "source": [
        "train_ds = tf.keras.preprocessing.image_dataset_from_directory(\n",
        "\tdataset_path,                     # Path of the dataset\n",
        "\tvalidation_split=0.2,             # Data division : validation (20%), train (80%)\n",
        "\tsubset=\"training\",                # Selection of training data\n",
        "\tseed=42,                          # Initialization of random generator (for permutations)\n",
        "\timage_size=(224,224),    \t\t\t\t\t# Input size of images\n",
        "\tbatch_size=configs['batch_size'], # Batch_size\n",
        "  label_mode=\"categorical\"     \t\t\t# Conversion to One-Hot format\n",
        ")"
      ]
    },
    {
      "cell_type": "markdown",
      "metadata": {
        "id": "ji2AfPd88PC-"
      },
      "source": [
        "#**9. Selection and configuration of the validation dataset**"
      ]
    },
    {
      "cell_type": "code",
      "execution_count": 12,
      "metadata": {
        "colab": {
          "base_uri": "https://localhost:8080/"
        },
        "id": "7Oruux4rRyDv",
        "outputId": "57d4488d-51aa-4b90-bc90-dc299d131d20",
        "vscode": {
          "languageId": "python"
        }
      },
      "outputs": [
        {
          "name": "stdout",
          "output_type": "stream",
          "text": [
            "Found 1500 files belonging to 3 classes.\n",
            "Using 300 files for validation.\n"
          ]
        }
      ],
      "source": [
        "val_ds = tf.keras.preprocessing.image_dataset_from_directory(\n",
        "\tdataset_path,                     # Path of the dataset\n",
        "\tvalidation_split=0.2,             # Data division : validation (20%), train (80%)\n",
        "\tsubset=\"validation\",              # Selection of validation data\n",
        "\tseed=42,                          # Initialization of random generator (for permutations)\n",
        "\timage_size=(224,224),    \t\t\t\t\t# Input size of images\n",
        "\tbatch_size=configs['batch_size'], # Batch_size\n",
        "  label_mode=\"categorical\"     \t\t\t# Conversion to One-Hot format\n",
        ")"
      ]
    },
    {
      "cell_type": "code",
      "execution_count": 13,
      "metadata": {
        "id": "dTVVf0tLacqD",
        "vscode": {
          "languageId": "python"
        }
      },
      "outputs": [],
      "source": [
        "def lr_scheduler(epoch, lr):\n",
        "    # log the current learning rate onto W&B\n",
        "    if wandb.run is None:\n",
        "        raise wandb.Error(\"You must call wandb.init() before WandbCallback()\")\n",
        "\n",
        "    wandb.log({'learning_rate': lr}, commit=False)\n",
        "    \n",
        "    if epoch < 7:\n",
        "        return lr\n",
        "    else:\n",
        "        return lr * tf.math.exp(-configs['lr_decay_rate'])\n",
        "\n",
        "lr_callback = tf.keras.callbacks.LearningRateScheduler(lr_scheduler)"
      ]
    },
    {
      "cell_type": "code",
      "execution_count": 14,
      "metadata": {
        "id": "e49kY3tKad0T",
        "vscode": {
          "languageId": "python"
        }
      },
      "outputs": [],
      "source": [
        "earlystopper = tf.keras.callbacks.EarlyStopping(\n",
        "    monitor='val_loss', patience=configs['earlystopping_patience'], verbose=0, mode='auto',\n",
        "    restore_best_weights=True\n",
        ")"
      ]
    },
    {
      "cell_type": "markdown",
      "metadata": {
        "id": "Wi8oBrIJWa5s"
      },
      "source": [
        "# **10. Download the pretrained model**"
      ]
    },
    {
      "cell_type": "code",
      "execution_count": 15,
      "metadata": {
        "id": "_WCBo9Oyb5zc",
        "vscode": {
          "languageId": "python"
        }
      },
      "outputs": [],
      "source": [
        "def get_model(input_shape: tuple=(224,224,3),\n",
        "              num_classes: int=3,\n",
        "              output_activation: str='softmax',\n",
        "              dropout_rate: float=0.4):\n",
        "  \n",
        "  base_model = Xception(include_top = False, weights ='imagenet',input_shape = input_shape)\n",
        "  model = base_model.output\n",
        "  model = Flatten()(model)\n",
        "  model = Dense(128,activation='relu')(model)\n",
        "  model = Dropout(0.8)(model)\n",
        "  model = Dense(64,activation = 'relu')(model)\n",
        "  model = Dropout(0.4)(model)\n",
        "  predictions = Dense(num_classes, activation = output_activation)(model)\n",
        "  model = Model(inputs=base_model.inputs, outputs=predictions)\n",
        "  return model"
      ]
    },
    {
      "cell_type": "markdown",
      "metadata": {
        "id": "q6CWnXEPb5zX"
      },
      "source": [
        "# **13. Model training**"
      ]
    },
    {
      "cell_type": "code",
      "execution_count": 16,
      "metadata": {
        "id": "GPGAZ2Vab5zo",
        "vscode": {
          "languageId": "python"
        }
      },
      "outputs": [],
      "source": [
        "def train(config: dict, callbacks: list, verbose: int=0):\n",
        "  tf.keras.backend.clear_session()\n",
        "  model=get_model()\n",
        "  # pour permettre le ré-entrainement des couches\n",
        "  for layer in model.layers:\n",
        "      layer.trainable = True\n",
        "  # recompiler le modèle\n",
        "  opt = keras.optimizers.SGD(learning_rate=config.init_learning_rate)\n",
        "  opt2 = keras.optimizers.Adam(learning_rate=config.init_learning_rate)\n",
        "  opt3 = keras.optimizers.RMSprop(learning_rate=config.init_learning_rate)\n",
        "\n",
        "  model.compile(loss=config.loss_fn,optimizer=opt2,metrics=config.metrics)  \n",
        "\n",
        "\n",
        "  # Création du dossier pour sauvegrader le model\n",
        "  if os.path.exists(result_path) == False:\n",
        "      os.makedirs(result_path)\n",
        "\n",
        "  keras_callback = [EarlyStopping(monitor='val_loss',patience = config['earlystopping_patience'], mode='auto',restore_best_weights=True)]\n",
        "  history=model.fit(\n",
        "      train_ds,\n",
        "      steps_per_epoch=math.ceil(len(train_ds)),\n",
        "      epochs=config.epochs,\n",
        "      validation_data=val_ds,\n",
        "      validation_steps=math.ceil(len(val_ds)),\n",
        "      callbacks = [WandbCallback()]\n",
        "  )\n",
        "  return model"
      ]
    },
    {
      "cell_type": "code",
      "execution_count": 17,
      "metadata": {
        "colab": {
          "base_uri": "https://localhost:8080/",
          "height": 889,
          "referenced_widgets": [
            "842eef61cf5142629004d422ce088b21",
            "6ff1d044a6334a00b817d97d77857819",
            "4ab64514cbf5459099c58d80b25274e5",
            "8b5dbfb11096478c85e30dbb0877f9bb",
            "65393aeff77f4a2fa82c50b294858279",
            "7f01d20162c4400a805ec53109962ec4",
            "37e90cf1027d413da20bf72ea507737a",
            "17d470d48fe146ab8c764e71f899ed9b"
          ]
        },
        "id": "c6B6WQDuaMXz",
        "outputId": "9bf975be-3d78-4367-8237-1c403c62aaf2",
        "vscode": {
          "languageId": "python"
        }
      },
      "outputs": [
        {
          "name": "stderr",
          "output_type": "stream",
          "text": [
            "ERROR:wandb.jupyter:Failed to detect the name of this notebook, you can set it manually with the WANDB_NOTEBOOK_NAME environment variable to enable code saving.\n",
            "\u001b[34m\u001b[1mwandb\u001b[0m: Currently logged in as: \u001b[33mmaxglo\u001b[0m (\u001b[33mpolytechmaxtyemur\u001b[0m). Use \u001b[1m`wandb login --relogin`\u001b[0m to force relogin\n"
          ]
        },
        {
          "data": {
            "text/html": [
              "Tracking run with wandb version 0.13.4"
            ],
            "text/plain": [
              "<IPython.core.display.HTML object>"
            ]
          },
          "metadata": {},
          "output_type": "display_data"
        },
        {
          "data": {
            "text/html": [
              "Run data is saved locally in <code>/content/wandb/run-20221017_121846-3hg7ctfn</code>"
            ],
            "text/plain": [
              "<IPython.core.display.HTML object>"
            ]
          },
          "metadata": {},
          "output_type": "display_data"
        },
        {
          "data": {
            "text/html": [
              "Syncing run <strong><a href=\"https://wandb.ai/polytechmaxtyemur/classifieur_feux/runs/3hg7ctfn\" target=\"_blank\">generous-tree-9</a></strong> to <a href=\"https://wandb.ai/polytechmaxtyemur/classifieur_feux\" target=\"_blank\">Weights & Biases</a> (<a href=\"https://wandb.me/run\" target=\"_blank\">docs</a>)<br/>"
            ],
            "text/plain": [
              "<IPython.core.display.HTML object>"
            ]
          },
          "metadata": {},
          "output_type": "display_data"
        },
        {
          "name": "stderr",
          "output_type": "stream",
          "text": [
            "\u001b[34m\u001b[1mwandb\u001b[0m: \u001b[33mWARNING\u001b[0m The save_model argument by default saves the model in the HDF5 format that cannot save custom objects like subclassed models and custom layers. This behavior will be deprecated in a future release in favor of the SavedModel format. Meanwhile, the HDF5 model is saved as W&B files and the SavedModel as W&B Artifacts.\n"
          ]
        },
        {
          "name": "stdout",
          "output_type": "stream",
          "text": [
            "Downloading data from https://storage.googleapis.com/tensorflow/keras-applications/xception/xception_weights_tf_dim_ordering_tf_kernels_notop.h5\n",
            "83683744/83683744 [==============================] - 2s 0us/step\n",
            "Epoch 1/5\n",
            "150/150 [==============================] - ETA: 0s - loss: 0.7091 - acc: 0.7683"
          ]
        },
        {
          "name": "stderr",
          "output_type": "stream",
          "text": [
            "WARNING:absl:Found untraced functions such as _jit_compiled_convolution_op, _jit_compiled_convolution_op, _jit_compiled_convolution_op, _jit_compiled_convolution_op, _jit_compiled_convolution_op while saving (showing 5 of 40). These functions will not be directly callable after loading.\n",
            "\u001b[34m\u001b[1mwandb\u001b[0m: Adding directory to artifact (/content/wandb/run-20221017_121846-3hg7ctfn/files/model-best)... Done. 2.5s\n"
          ]
        },
        {
          "name": "stdout",
          "output_type": "stream",
          "text": [
            "\b\b\b\b\b\b\b\b\b\b\b\b\b\b\b\b\b\b\b\b\b\b\b\b\b\b\b\b\b\b\b\b\b\b\b\b\b\b\b\b\b\b\b\b\b\b\b\b\b\b\b\b\b\b\b\b\b\b\b\b\b\b\b\b\b\b\b\b\b\b\b\b\b\b\b\b\b\b\b\r150/150 [==============================] - 73s 367ms/step - loss: 0.7091 - acc: 0.7683 - val_loss: 89.2853 - val_acc: 0.6900\n",
            "Epoch 2/5\n",
            "150/150 [==============================] - 31s 199ms/step - loss: 0.6844 - acc: 0.7533 - val_loss: 285.2457 - val_acc: 0.7100\n",
            "Epoch 3/5\n",
            "150/150 [==============================] - ETA: 0s - loss: 0.4770 - acc: 0.8458"
          ]
        },
        {
          "name": "stderr",
          "output_type": "stream",
          "text": [
            "WARNING:absl:Found untraced functions such as _jit_compiled_convolution_op, _jit_compiled_convolution_op, _jit_compiled_convolution_op, _jit_compiled_convolution_op, _jit_compiled_convolution_op while saving (showing 5 of 40). These functions will not be directly callable after loading.\n",
            "\u001b[34m\u001b[1mwandb\u001b[0m: Adding directory to artifact (/content/wandb/run-20221017_121846-3hg7ctfn/files/model-best)... Done. 2.6s\n"
          ]
        },
        {
          "name": "stdout",
          "output_type": "stream",
          "text": [
            "\b\b\b\b\b\b\b\b\b\b\b\b\b\b\b\b\b\b\b\b\b\b\b\b\b\b\b\b\b\b\b\b\b\b\b\b\b\b\b\b\b\b\b\b\b\b\b\b\b\b\b\b\b\b\b\b\b\b\b\b\b\b\b\b\b\b\b\b\b\b\b\b\b\b\b\b\b\b\b\r150/150 [==============================] - 53s 350ms/step - loss: 0.4770 - acc: 0.8458 - val_loss: 0.6914 - val_acc: 0.8500\n",
            "Epoch 4/5\n",
            "150/150 [==============================] - 33s 213ms/step - loss: 0.3830 - acc: 0.8683 - val_loss: 1.1423 - val_acc: 0.8900\n",
            "Epoch 5/5\n",
            "150/150 [==============================] - ETA: 0s - loss: 0.3101 - acc: 0.8917"
          ]
        },
        {
          "name": "stderr",
          "output_type": "stream",
          "text": [
            "WARNING:absl:Found untraced functions such as _jit_compiled_convolution_op, _jit_compiled_convolution_op, _jit_compiled_convolution_op, _jit_compiled_convolution_op, _jit_compiled_convolution_op while saving (showing 5 of 40). These functions will not be directly callable after loading.\n",
            "\u001b[34m\u001b[1mwandb\u001b[0m: Adding directory to artifact (/content/wandb/run-20221017_121846-3hg7ctfn/files/model-best)... Done. 2.8s\n"
          ]
        },
        {
          "name": "stdout",
          "output_type": "stream",
          "text": [
            "150/150 [==============================] - 53s 348ms/step - loss: 0.3101 - acc: 0.8917 - val_loss: 0.3046 - val_acc: 0.9000\n",
            "38/38 [==============================] - 6s 104ms/step - loss: 0.3046 - acc: 0.9000\n"
          ]
        },
        {
          "data": {
            "text/html": [
              "Waiting for W&B process to finish... <strong style=\"color:green\">(success).</strong>"
            ],
            "text/plain": [
              "<IPython.core.display.HTML object>"
            ]
          },
          "metadata": {},
          "output_type": "display_data"
        },
        {
          "data": {
            "application/vnd.jupyter.widget-view+json": {
              "model_id": "842eef61cf5142629004d422ce088b21",
              "version_major": 2,
              "version_minor": 0
            },
            "text/plain": [
              "VBox(children=(Label(value='1165.777 MB of 1165.777 MB uploaded (0.305 MB deduped)\\r'), FloatProgress(value=1.…"
            ]
          },
          "metadata": {},
          "output_type": "display_data"
        },
        {
          "data": {
            "text/html": [
              "<style>\n",
              "    table.wandb td:nth-child(1) { padding: 0 10px; text-align: left ; width: auto;} td:nth-child(2) {text-align: left ; width: 100%}\n",
              "    .wandb-row { display: flex; flex-direction: row; flex-wrap: wrap; justify-content: flex-start; width: 100% }\n",
              "    .wandb-col { display: flex; flex-direction: column; flex-basis: 100%; flex: 1; padding: 10px; }\n",
              "    </style>\n",
              "<div class=\"wandb-row\"><div class=\"wandb-col\"><h3>Run history:</h3><br/><table class=\"wandb\"><tr><td>acc</td><td>▂▁▆▇█</td></tr><tr><td>epoch</td><td>▁▃▅▆█</td></tr><tr><td>evaluate/accuracy</td><td>▁</td></tr><tr><td>loss</td><td>██▄▂▁</td></tr><tr><td>val_acc</td><td>▁▂▆██</td></tr><tr><td>val_loss</td><td>▃█▁▁▁</td></tr></table><br/></div><div class=\"wandb-col\"><h3>Run summary:</h3><br/><table class=\"wandb\"><tr><td>acc</td><td>0.89167</td></tr><tr><td>best_epoch</td><td>4</td></tr><tr><td>best_val_loss</td><td>0.30461</td></tr><tr><td>epoch</td><td>4</td></tr><tr><td>evaluate/accuracy</td><td>0.9</td></tr><tr><td>loss</td><td>0.31009</td></tr><tr><td>val_acc</td><td>0.9</td></tr><tr><td>val_loss</td><td>0.30461</td></tr></table><br/></div></div>"
            ],
            "text/plain": [
              "<IPython.core.display.HTML object>"
            ]
          },
          "metadata": {},
          "output_type": "display_data"
        },
        {
          "data": {
            "text/html": [
              "Synced <strong style=\"color:#cdcd00\">generous-tree-9</strong>: <a href=\"https://wandb.ai/polytechmaxtyemur/classifieur_feux/runs/3hg7ctfn\" target=\"_blank\">https://wandb.ai/polytechmaxtyemur/classifieur_feux/runs/3hg7ctfn</a><br/>Synced 5 W&B file(s), 1 media file(s), 10 artifact file(s) and 1 other file(s)"
            ],
            "text/plain": [
              "<IPython.core.display.HTML object>"
            ]
          },
          "metadata": {},
          "output_type": "display_data"
        },
        {
          "data": {
            "text/html": [
              "Find logs at: <code>./wandb/run-20221017_121846-3hg7ctfn/logs</code>"
            ],
            "text/plain": [
              "<IPython.core.display.HTML object>"
            ]
          },
          "metadata": {},
          "output_type": "display_data"
        }
      ],
      "source": [
        "# Initialize the W&B run\n",
        "run = wandb.init(project=\"classifieur_feux\", entity=\"polytechmaxtyemur\", config=configs, job_type='train')\n",
        "config = wandb.config\n",
        "\n",
        "# Define WandbCallback for experiment tracking\n",
        "wandb_callback = WandbCallback(monitor='accuracy',\n",
        "                               log_weights=True,\n",
        "                               log_evaluation=True,\n",
        "                               validation_steps=5)\n",
        "\n",
        "# callbacks\n",
        "callbacks = [earlystopper, wandb_callback, lr_callback]\n",
        "\n",
        "# Train\n",
        "model = train(config, callbacks=callbacks, verbose=1)\n",
        "\n",
        "# Evaluate the trained model\n",
        "loss, acc = model.evaluate(val_ds)\n",
        "wandb.log({'evaluate/accuracy': acc})\n",
        "\n",
        "# Close the W&B run.\n",
        "wandb.finish()"
      ]
    },
    {
      "cell_type": "markdown",
      "metadata": {
        "id": "xVOg-VgI9YMB"
      },
      "source": [
        "#**14. Save your model**\n"
      ]
    },
    {
      "cell_type": "code",
      "execution_count": 18,
      "metadata": {
        "id": "BbAlAYpm9fg5",
        "vscode": {
          "languageId": "python"
        }
      },
      "outputs": [],
      "source": [
        "model.save('test.h5')"
      ]
    },
    {
      "cell_type": "markdown",
      "metadata": {
        "id": "GN_ljTXlMSIZ"
      },
      "source": [
        "#**15. Visualization of training/validation curves**"
      ]
    },
    {
      "cell_type": "markdown",
      "metadata": {
        "id": "oECfYKSp_MaQ"
      },
      "source": [
        "#**16. Test the model with a test image : (TO COMPLETE)**"
      ]
    },
    {
      "cell_type": "code",
      "execution_count": null,
      "metadata": {
        "id": "NwCnXVtKESUf",
        "vscode": {
          "languageId": "python"
        }
      },
      "outputs": [],
      "source": [
        "files.upload();"
      ]
    },
    {
      "cell_type": "code",
      "execution_count": 20,
      "metadata": {
        "id": "hcKZUDoWUq0P",
        "vscode": {
          "languageId": "python"
        }
      },
      "outputs": [],
      "source": [
        "filename = \"https://www.google.com/url?sa=i&url=https%3A%2F%2Ffr.pixers.ch%2Frideaux-transparents%2Fchemin-dans-la-foret-d-39-automne-44247881&psig=AOvVaw0UxAdn2RoCMVRaZp720Txu&ust=1666095888343000&source=images&cd=vfe&ved=0CAwQjRxqFwoTCMjiwP2g5_oCFQAAAAAdAAAAABAJ\""
      ]
    },
    {
      "cell_type": "code",
      "execution_count": 23,
      "metadata": {
        "colab": {
          "base_uri": "https://localhost:8080/",
          "height": 342
        },
        "id": "N_JRsQoh_chG",
        "outputId": "00f0e83d-646b-4014-9c51-79e80cf7ec44",
        "vscode": {
          "languageId": "python"
        }
      },
      "outputs": [
        {
          "name": "stdout",
          "output_type": "stream",
          "text": [
            "1/1 [==============================] - 0s 24ms/step\n",
            "Class Name : fire --- Class Probability: 12.52%\n",
            "Class Name : no_fire --- Class Probability: 61.31%\n",
            "Class Name : start_fire --- Class Probability: 26.17%\n"
          ]
        },
        {
          "data": {
            "image/png": "[encoded data removed]",
            "text/plain": [
              "<Figure size 432x288 with 1 Axes>"
            ]
          },
          "metadata": {
            "needs_background": "light"
          },
          "output_type": "display_data"
        }
      ],
      "source": [
        "%matplotlib inline\n",
        "image_path = \"fog.jpg\"\n",
        "img = Image.open(image_path).convert('RGB')\n",
        "x = tf.keras.utils.img_to_array(img,data_format='channels_last')\n",
        "x = tf.keras.preprocessing.image.smart_resize(x, size=(224,224))\n",
        "x = np.expand_dims(x, axis=0)\n",
        "# predict\n",
        "pred = model.predict(x,batch_size=1)[0]\n",
        "\n",
        "for (pos,prob) in enumerate(pred):\n",
        "    class_name = classes[pos]\n",
        "    if (pos == np.argmax(pred)) :\n",
        "        img = cv2.imread(image_path)\n",
        "        img = cv2.cvtColor(img, cv2.COLOR_BGR2RGB)\n",
        "        font = cv2.FONT_HERSHEY_COMPLEX \n",
        "        textsize = cv2.getTextSize(class_name, font, 1, 2)[0]\n",
        "        textX = (img.shape[1] - textsize[0]) / 2\n",
        "        textY = (img.shape[0] + textsize[1]) / 2\n",
        "        cv2.putText(img, class_name, (int(textX)-10, int(textY)), font, 2, (255,0,0), 6, cv2.LINE_AA)\n",
        "        plt.imshow(img)\n",
        "    print(\"Class Name : %s\" % (class_name), \"---\", \"Class Probability: %.2f%%\" % (prob*100))\n",
        "plt.show()"
      ]
    }
  ],
  "metadata": {
    "accelerator": "GPU",
    "colab": {
      "collapsed_sections": [],
      "include_colab_link": true,
      "provenance": []
    },
    "kernelspec": {
      "display_name": "Python 3",
      "name": "python3"
    },
    "widgets": {
      "application/vnd.jupyter.widget-state+json": {
        "17d470d48fe146ab8c764e71f899ed9b": {
          "model_module": "@jupyter-widgets/controls",
          "model_module_version": "1.5.0",
          "model_name": "ProgressStyleModel",
          "state": {
            "_model_module": "@jupyter-widgets/controls",
            "_model_module_version": "1.5.0",
            "_model_name": "ProgressStyleModel",
            "_view_count": null,
            "_view_module": "@jupyter-widgets/base",
            "_view_module_version": "1.2.0",
            "_view_name": "StyleView",
            "bar_color": null,
            "description_width": ""
          }
        },
        "37e90cf1027d413da20bf72ea507737a": {
          "model_module": "@jupyter-widgets/base",
          "model_module_version": "1.2.0",
          "model_name": "LayoutModel",
          "state": {
            "_model_module": "@jupyter-widgets/base",
            "_model_module_version": "1.2.0",
            "_model_name": "LayoutModel",
            "_view_count": null,
            "_view_module": "@jupyter-widgets/base",
            "_view_module_version": "1.2.0",
            "_view_name": "LayoutView",
            "align_content": null,
            "align_items": null,
            "align_self": null,
            "border": null,
            "bottom": null,
            "display": null,
            "flex": null,
            "flex_flow": null,
            "grid_area": null,
            "grid_auto_columns": null,
            "grid_auto_flow": null,
            "grid_auto_rows": null,
            "grid_column": null,
            "grid_gap": null,
            "grid_row": null,
            "grid_template_areas": null,
            "grid_template_columns": null,
            "grid_template_rows": null,
            "height": null,
            "justify_content": null,
            "justify_items": null,
            "left": null,
            "margin": null,
            "max_height": null,
            "max_width": null,
            "min_height": null,
            "min_width": null,
            "object_fit": null,
            "object_position": null,
            "order": null,
            "overflow": null,
            "overflow_x": null,
            "overflow_y": null,
            "padding": null,
            "right": null,
            "top": null,
            "visibility": null,
            "width": null
          }
        },
        "4ab64514cbf5459099c58d80b25274e5": {
          "model_module": "@jupyter-widgets/controls",
          "model_module_version": "1.5.0",
          "model_name": "FloatProgressModel",
          "state": {
            "_dom_classes": [],
            "_model_module": "@jupyter-widgets/controls",
            "_model_module_version": "1.5.0",
            "_model_name": "FloatProgressModel",
            "_view_count": null,
            "_view_module": "@jupyter-widgets/controls",
            "_view_module_version": "1.5.0",
            "_view_name": "ProgressView",
            "bar_style": "",
            "description": "",
            "description_tooltip": null,
            "layout": "IPY_MODEL_37e90cf1027d413da20bf72ea507737a",
            "max": 1,
            "min": 0,
            "orientation": "horizontal",
            "style": "IPY_MODEL_17d470d48fe146ab8c764e71f899ed9b",
            "value": 1
          }
        },
        "65393aeff77f4a2fa82c50b294858279": {
          "model_module": "@jupyter-widgets/base",
          "model_module_version": "1.2.0",
          "model_name": "LayoutModel",
          "state": {
            "_model_module": "@jupyter-widgets/base",
            "_model_module_version": "1.2.0",
            "_model_name": "LayoutModel",
            "_view_count": null,
            "_view_module": "@jupyter-widgets/base",
            "_view_module_version": "1.2.0",
            "_view_name": "LayoutView",
            "align_content": null,
            "align_items": null,
            "align_self": null,
            "border": null,
            "bottom": null,
            "display": null,
            "flex": null,
            "flex_flow": null,
            "grid_area": null,
            "grid_auto_columns": null,
            "grid_auto_flow": null,
            "grid_auto_rows": null,
            "grid_column": null,
            "grid_gap": null,
            "grid_row": null,
            "grid_template_areas": null,
            "grid_template_columns": null,
            "grid_template_rows": null,
            "height": null,
            "justify_content": null,
            "justify_items": null,
            "left": null,
            "margin": null,
            "max_height": null,
            "max_width": null,
            "min_height": null,
            "min_width": null,
            "object_fit": null,
            "object_position": null,
            "order": null,
            "overflow": null,
            "overflow_x": null,
            "overflow_y": null,
            "padding": null,
            "right": null,
            "top": null,
            "visibility": null,
            "width": null
          }
        },
        "6ff1d044a6334a00b817d97d77857819": {
          "model_module": "@jupyter-widgets/controls",
          "model_module_version": "1.5.0",
          "model_name": "LabelModel",
          "state": {
            "_dom_classes": [],
            "_model_module": "@jupyter-widgets/controls",
            "_model_module_version": "1.5.0",
            "_model_name": "LabelModel",
            "_view_count": null,
            "_view_module": "@jupyter-widgets/controls",
            "_view_module_version": "1.5.0",
            "_view_name": "LabelView",
            "description": "",
            "description_tooltip": null,
            "layout": "IPY_MODEL_65393aeff77f4a2fa82c50b294858279",
            "placeholder": "​",
            "style": "IPY_MODEL_7f01d20162c4400a805ec53109962ec4",
            "value": "1165.777 MB of 1165.777 MB uploaded (0.305 MB deduped)\r"
          }
        },
        "7f01d20162c4400a805ec53109962ec4": {
          "model_module": "@jupyter-widgets/controls",
          "model_module_version": "1.5.0",
          "model_name": "DescriptionStyleModel",
          "state": {
            "_model_module": "@jupyter-widgets/controls",
            "_model_module_version": "1.5.0",
            "_model_name": "DescriptionStyleModel",
            "_view_count": null,
            "_view_module": "@jupyter-widgets/base",
            "_view_module_version": "1.2.0",
            "_view_name": "StyleView",
            "description_width": ""
          }
        },
        "842eef61cf5142629004d422ce088b21": {
          "model_module": "@jupyter-widgets/controls",
          "model_module_version": "1.5.0",
          "model_name": "VBoxModel",
          "state": {
            "_dom_classes": [],
            "_model_module": "@jupyter-widgets/controls",
            "_model_module_version": "1.5.0",
            "_model_name": "VBoxModel",
            "_view_count": null,
            "_view_module": "@jupyter-widgets/controls",
            "_view_module_version": "1.5.0",
            "_view_name": "VBoxView",
            "box_style": "",
            "children": [
              "IPY_MODEL_6ff1d044a6334a00b817d97d77857819",
              "IPY_MODEL_4ab64514cbf5459099c58d80b25274e5"
            ],
            "layout": "IPY_MODEL_8b5dbfb11096478c85e30dbb0877f9bb"
          }
        },
        "8b5dbfb11096478c85e30dbb0877f9bb": {
          "model_module": "@jupyter-widgets/base",
          "model_module_version": "1.2.0",
          "model_name": "LayoutModel",
          "state": {
            "_model_module": "@jupyter-widgets/base",
            "_model_module_version": "1.2.0",
            "_model_name": "LayoutModel",
            "_view_count": null,
            "_view_module": "@jupyter-widgets/base",
            "_view_module_version": "1.2.0",
            "_view_name": "LayoutView",
            "align_content": null,
            "align_items": null,
            "align_self": null,
            "border": null,
            "bottom": null,
            "display": null,
            "flex": null,
            "flex_flow": null,
            "grid_area": null,
            "grid_auto_columns": null,
            "grid_auto_flow": null,
            "grid_auto_rows": null,
            "grid_column": null,
            "grid_gap": null,
            "grid_row": null,
            "grid_template_areas": null,
            "grid_template_columns": null,
            "grid_template_rows": null,
            "height": null,
            "justify_content": null,
            "justify_items": null,
            "left": null,
            "margin": null,
            "max_height": null,
            "max_width": null,
            "min_height": null,
            "min_width": null,
            "object_fit": null,
            "object_position": null,
            "order": null,
            "overflow": null,
            "overflow_x": null,
            "overflow_y": null,
            "padding": null,
            "right": null,
            "top": null,
            "visibility": null,
            "width": null
          }
        }
      }
    }
  },
  "nbformat": 4,
  "nbformat_minor": 0
}
