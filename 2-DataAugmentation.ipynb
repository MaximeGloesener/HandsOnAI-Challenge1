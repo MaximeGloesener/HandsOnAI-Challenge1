{
  "nbformat": 4,
  "nbformat_minor": 0,
  "metadata": {
    "colab": {
      "provenance": [],
      "collapsed_sections": [],
      "authorship_tag": "ABX9TyMzypwzgj8Wtl55fc90Xfoz",
      "include_colab_link": true
    },
    "kernelspec": {
      "name": "python3",
      "display_name": "Python 3"
    },
    "language_info": {
      "name": "python"
    }
  },
  "cells": [
    {
      "cell_type": "markdown",
      "metadata": {
        "id": "view-in-github",
        "colab_type": "text"
      },
      "source": [
        "<a href=\"https://colab.research.google.com/github/MaximeGloesener/HandsOnAI-Challenge1/blob/master/2-DataAugmentation.ipynb\" target=\"_parent\"><img src=\"https://colab.research.google.com/assets/colab-badge.svg\" alt=\"Open In Colab\"/></a>"
      ]
    },
    {
      "cell_type": "markdown",
      "source": [
        "# **Data augmentation**"
      ],
      "metadata": {
        "id": "S3Lm0I6Hz4K3"
      }
    },
    {
      "cell_type": "markdown",
      "source": [
        "#### Ajout de nouvelles images à partir d'internet\n",
        "#### Comparaison avec les hashes des images déjà présentes dans notre jeu de données pour éviter d'ajouter des doublons"
      ],
      "metadata": {
        "id": "0YM5mIfkznFg"
      }
    },
    {
      "cell_type": "markdown",
      "source": [
        "# **1. Import des librairies**"
      ],
      "metadata": {
        "id": "nunUo87C1ryb"
      }
    },
    {
      "cell_type": "code",
      "source": [
        "!pip install ImageHash"
      ],
      "metadata": {
        "colab": {
          "base_uri": "https://localhost:8080/"
        },
        "id": "G9cCm2aZ8YIt",
        "outputId": "387e3eb9-5279-49cb-e2fc-bf3e732cd1d3"
      },
      "execution_count": null,
      "outputs": [
        {
          "output_type": "stream",
          "name": "stdout",
          "text": [
            "Looking in indexes: https://pypi.org/simple, https://us-python.pkg.dev/colab-wheels/public/simple/\n",
            "Requirement already satisfied: ImageHash in /usr/local/lib/python3.7/dist-packages (4.3.1)\n",
            "Requirement already satisfied: scipy in /usr/local/lib/python3.7/dist-packages (from ImageHash) (1.7.3)\n",
            "Requirement already satisfied: PyWavelets in /usr/local/lib/python3.7/dist-packages (from ImageHash) (1.3.0)\n",
            "Requirement already satisfied: pillow in /usr/local/lib/python3.7/dist-packages (from ImageHash) (7.1.2)\n",
            "Requirement already satisfied: numpy in /usr/local/lib/python3.7/dist-packages (from ImageHash) (1.21.6)\n"
          ]
        }
      ]
    },
    {
      "cell_type": "code",
      "source": [
        "import cv2\n",
        "import imagehash\n",
        "from PIL import Image\n",
        "import os "
      ],
      "metadata": {
        "id": "gcEZ8jXZ1xr2"
      },
      "execution_count": null,
      "outputs": []
    },
    {
      "cell_type": "code",
      "execution_count": null,
      "metadata": {
        "id": "3W81cDIJOizH",
        "colab": {
          "base_uri": "https://localhost:8080/"
        },
        "outputId": "12583b2d-4a1b-47d0-99a2-ff9f3f3fee00"
      },
      "outputs": [
        {
          "output_type": "stream",
          "name": "stdout",
          "text": [
            "Drive already mounted at /content/gdrive; to attempt to forcibly remount, call drive.mount(\"/content/gdrive\", force_remount=True).\n"
          ]
        }
      ],
      "source": [
        "# On veut récupérer les données qui ont été traitées dans le premier notebook et qui sont stockées sur le drive\n",
        "from google.colab import drive\n",
        "drive.mount('/content/gdrive')"
      ]
    },
    {
      "cell_type": "markdown",
      "source": [
        "# **2. Ajout des nouvelles images**"
      ],
      "metadata": {
        "id": "vyX9lS_L3C1S"
      }
    },
    {
      "cell_type": "markdown",
      "source": [
        "Utilisation des plusieurs jeu de données trouvés sur kaggle ou autre sites, le plus simple/rapide était de tout charger dans le drive et de supprimer les doublons par la suite"
      ],
      "metadata": {
        "id": "WO8QYs72hlFo"
      }
    },
    {
      "cell_type": "markdown",
      "source": [
        "# **3. Suppression des doublons**"
      ],
      "metadata": {
        "id": "Br-JSqtzUeBL"
      }
    },
    {
      "cell_type": "code",
      "source": [
        "classes = ['fire/', 'start_fire/', 'no_fire/']\n",
        "import tqdm\n",
        "hash_dict = {}\n",
        "\n",
        "for classe in classes:\n",
        "\n",
        "  path = \"/content/gdrive/MyDrive/Challenge1/all_data/\" + classe\n",
        "\n",
        "  for image in (os.listdir(path)):\n",
        "\n",
        "    path_image = path + image\n",
        "    try:\n",
        "      hash = imagehash.dhash(Image.open(path_image))\n",
        "\n",
        "      if hash not in hash_dict:\n",
        "        hash_dict[hash] = path_image\n",
        "\n",
        "      else:\n",
        "        #print(f'{hash_dict[hash]} is equal to {path_image}')\n",
        "        os.remove(path_image)\n",
        "    except:\n",
        "      pass"
      ],
      "metadata": {
        "id": "HAawi6AmMo_3"
      },
      "execution_count": null,
      "outputs": []
    },
    {
      "cell_type": "code",
      "source": [
        "os.remove(\"/content/gdrive/MyDrive/Challenge1/all_data/fire/F_86.jpg\")"
      ],
      "metadata": {
        "id": "PqQ1jOu-lmSK"
      },
      "execution_count": null,
      "outputs": []
    },
    {
      "cell_type": "code",
      "source": [
        "fire = len(os.listdir(\"/content/gdrive/MyDrive/Challenge1/all_data/fire\"))\n",
        "no_fire = len(os.listdir(\"/content/gdrive/MyDrive/Challenge1/all_data//no_fire\"))\n",
        "start_fire = len(os.listdir(\"/content/gdrive/MyDrive/Challenge1/all_data/start_fire\"))\n",
        "print(f\"Nombre d'images de la classe fire : {fire}\")\n",
        "print(f\"Nombre d'images de la classe no fire : {no_fire}\")\n",
        "print(f\"Nombre d'images de la classe start_fire: {start_fire}\")\n",
        "print(f\"Nombre total d'images: {fire+start_fire+no_fire}\")"
      ],
      "metadata": {
        "colab": {
          "base_uri": "https://localhost:8080/"
        },
        "id": "aNN0vvYvUntD",
        "outputId": "f0b9c823-51fc-4bc6-f308-1f9e0bf8ab68"
      },
      "execution_count": null,
      "outputs": [
        {
          "output_type": "stream",
          "name": "stdout",
          "text": [
            "Nombre d'images de la classe fire : 3584\n",
            "Nombre d'images de la classe no fire : 2406\n",
            "Nombre d'images de la classe start_fire: 488\n",
            "Nombre total d'images: 6478\n"
          ]
        }
      ]
    }
  ]
}